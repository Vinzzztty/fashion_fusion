{
  "nbformat": 4,
  "nbformat_minor": 0,
  "metadata": {
    "colab": {
      "provenance": [],
      "collapsed_sections": [
        "LGznaSSZ4d6Q",
        "ysBWjMsN4OVX",
        "bcnXGNa34Qik",
        "wElyGieV6LZY",
        "NbIovWrQ4WIB",
        "jOVji17u6kK4",
        "LnrzNrfO6m8L",
        "sd9gfnD16qVU",
        "K2ZvxApoAKT_",
        "CkOQVawPDDAR",
        "1ubc1ZVKHEle"
      ],
      "gpuType": "T4"
    },
    "kernelspec": {
      "name": "python3",
      "display_name": "Python 3"
    },
    "language_info": {
      "name": "python"
    },
    "accelerator": "GPU"
  },
  "cells": [
    {
      "cell_type": "markdown",
      "source": [
        "# Import Libarary"
      ],
      "metadata": {
        "id": "LGznaSSZ4d6Q"
      }
    },
    {
      "cell_type": "code",
      "source": [
        "import os\n",
        "import zipfile\n",
        "import gdown # To download googledrive file\n",
        "\n",
        "import pandas as pd\n",
        "import numpy as np\n",
        "import matplotlib.pyplot as plt\n",
        "import cv2\n",
        "\n",
        "import tensorflow as tf\n",
        "from tensorflow.keras.preprocessing import image\n",
        "from tensorflow.keras.applications.inception_v3 import preprocess_input\n"
      ],
      "metadata": {
        "id": "jbdt4g5C4h78"
      },
      "execution_count": null,
      "outputs": []
    },
    {
      "cell_type": "markdown",
      "source": [
        "# Load Dataset"
      ],
      "metadata": {
        "id": "ysBWjMsN4OVX"
      }
    },
    {
      "cell_type": "code",
      "source": [
        "# Replace 'your_file_id' with the actual File ID\n",
        "file_id = '1licscz3rIASm39u_ZDfi4mUBS356yOUc'\n",
        "\n",
        "\n",
        "# Construct the download link\n",
        "url = f'https://drive.google.com/uc?id={file_id}'\n",
        "\n",
        "# Download the file\n",
        "gdown.download(url, quiet=False)"
      ],
      "metadata": {
        "colab": {
          "base_uri": "https://localhost:8080/"
        },
        "id": "kbygkL2n4Z88",
        "outputId": "0c3af336-e795-405f-a470-36f5396d718e"
      },
      "execution_count": null,
      "outputs": [
        {
          "output_type": "stream",
          "name": "stderr",
          "text": [
            "Downloading...\n",
            "From: https://drive.google.com/uc?id=1licscz3rIASm39u_ZDfi4mUBS356yOUc\n",
            "To: /content/dataset_fashion_small.zip\n",
            "100%|██████████| 593M/593M [00:09<00:00, 63.1MB/s]\n"
          ]
        },
        {
          "output_type": "execute_result",
          "data": {
            "text/plain": [
              "'dataset_fashion_small.zip'"
            ],
            "application/vnd.google.colaboratory.intrinsic+json": {
              "type": "string"
            }
          },
          "metadata": {},
          "execution_count": 2
        }
      ]
    },
    {
      "cell_type": "code",
      "source": [
        "# Unzip file\n",
        "zip_ref = zipfile.ZipFile('dataset_fashion_small.zip', 'r')\n",
        "zip_ref.extractall()\n",
        "\n",
        "zip_ref.close()"
      ],
      "metadata": {
        "id": "cWdk2fl45Hzd"
      },
      "execution_count": null,
      "outputs": []
    },
    {
      "cell_type": "code",
      "source": [
        "!ls"
      ],
      "metadata": {
        "colab": {
          "base_uri": "https://localhost:8080/"
        },
        "id": "F1K1K6vW5NTS",
        "outputId": "fccd347e-1740-4d10-89e7-07d8841a1955"
      },
      "execution_count": null,
      "outputs": [
        {
          "output_type": "stream",
          "name": "stdout",
          "text": [
            "dataset_fashion_small.zip  images  myntradataset  sample_data  styles.csv\n"
          ]
        }
      ]
    },
    {
      "cell_type": "markdown",
      "source": [
        "# EDA\n",
        "\n",
        "1. Explore the dataset\n",
        "2. Mengenal dataset\n"
      ],
      "metadata": {
        "id": "bcnXGNa34Qik"
      }
    },
    {
      "cell_type": "code",
      "source": [
        "# Set Path\n",
        "DATASET_PATH = '/content/myntradataset'\n",
        "print(os.listdir(DATASET_PATH))"
      ],
      "metadata": {
        "colab": {
          "base_uri": "https://localhost:8080/"
        },
        "id": "wS3gmM_35WFb",
        "outputId": "f7603549-6b45-4f8e-981f-00fe5918e35e"
      },
      "execution_count": null,
      "outputs": [
        {
          "output_type": "stream",
          "name": "stdout",
          "text": [
            "['images', 'styles.csv']\n"
          ]
        }
      ]
    },
    {
      "cell_type": "code",
      "source": [
        "# Define to dataframe use Pandas\n",
        "df = pd.read_csv(DATASET_PATH + \"/styles.csv\", on_bad_lines='skip')\n",
        "\n",
        "# Karena ID ini menunjukkan nama image, maka kita buatkan kolom baru\n",
        "df['image'] = df.apply(lambda row:str(row['id']) + \".jpg\", axis=1)\n",
        "\n",
        "df"
      ],
      "metadata": {
        "colab": {
          "base_uri": "https://localhost:8080/"
        },
        "id": "hD2UAikQ5k1M",
        "outputId": "feb29f14-d7a7-4e55-ff71-b67434611dec"
      },
      "execution_count": null,
      "outputs": [
        {
          "output_type": "execute_result",
          "data": {
            "text/plain": [
              "          id gender masterCategory subCategory            articleType  \\\n",
              "0      15970    Men        Apparel     Topwear                 Shirts   \n",
              "1      39386    Men        Apparel  Bottomwear                  Jeans   \n",
              "2      59263  Women    Accessories     Watches                Watches   \n",
              "3      21379    Men        Apparel  Bottomwear            Track Pants   \n",
              "4      53759    Men        Apparel     Topwear                Tshirts   \n",
              "...      ...    ...            ...         ...                    ...   \n",
              "44419  17036    Men       Footwear       Shoes           Casual Shoes   \n",
              "44420   6461    Men       Footwear  Flip Flops             Flip Flops   \n",
              "44421  18842    Men        Apparel     Topwear                Tshirts   \n",
              "44422  46694  Women  Personal Care   Fragrance  Perfume and Body Mist   \n",
              "44423  51623  Women    Accessories     Watches                Watches   \n",
              "\n",
              "      baseColour  season    year   usage  \\\n",
              "0      Navy Blue    Fall  2011.0  Casual   \n",
              "1           Blue  Summer  2012.0  Casual   \n",
              "2         Silver  Winter  2016.0  Casual   \n",
              "3          Black    Fall  2011.0  Casual   \n",
              "4           Grey  Summer  2012.0  Casual   \n",
              "...          ...     ...     ...     ...   \n",
              "44419      White  Summer  2013.0  Casual   \n",
              "44420        Red  Summer  2011.0  Casual   \n",
              "44421       Blue    Fall  2011.0  Casual   \n",
              "44422       Blue  Spring  2017.0  Casual   \n",
              "44423       Pink  Winter  2016.0  Casual   \n",
              "\n",
              "                                    productDisplayName      image  \n",
              "0                     Turtle Check Men Navy Blue Shirt  15970.jpg  \n",
              "1                   Peter England Men Party Blue Jeans  39386.jpg  \n",
              "2                             Titan Women Silver Watch  59263.jpg  \n",
              "3        Manchester United Men Solid Black Track Pants  21379.jpg  \n",
              "4                                Puma Men Grey T-shirt  53759.jpg  \n",
              "...                                                ...        ...  \n",
              "44419                        Gas Men Caddy Casual Shoe  17036.jpg  \n",
              "44420               Lotto Men's Soccer Track Flip Flop   6461.jpg  \n",
              "44421             Puma Men Graphic Stellar Blue Tshirt  18842.jpg  \n",
              "44422                   Rasasi Women Blue Lady Perfume  46694.jpg  \n",
              "44423  Fossil Women Pink Dial Chronograph Watch ES3050  51623.jpg  \n",
              "\n",
              "[44424 rows x 11 columns]"
            ],
            "text/html": [
              "\n",
              "  <div id=\"df-0e59d3b7-67d2-498b-af5e-4475b4b99811\" class=\"colab-df-container\">\n",
              "    <div>\n",
              "<style scoped>\n",
              "    .dataframe tbody tr th:only-of-type {\n",
              "        vertical-align: middle;\n",
              "    }\n",
              "\n",
              "    .dataframe tbody tr th {\n",
              "        vertical-align: top;\n",
              "    }\n",
              "\n",
              "    .dataframe thead th {\n",
              "        text-align: right;\n",
              "    }\n",
              "</style>\n",
              "<table border=\"1\" class=\"dataframe\">\n",
              "  <thead>\n",
              "    <tr style=\"text-align: right;\">\n",
              "      <th></th>\n",
              "      <th>id</th>\n",
              "      <th>gender</th>\n",
              "      <th>masterCategory</th>\n",
              "      <th>subCategory</th>\n",
              "      <th>articleType</th>\n",
              "      <th>baseColour</th>\n",
              "      <th>season</th>\n",
              "      <th>year</th>\n",
              "      <th>usage</th>\n",
              "      <th>productDisplayName</th>\n",
              "      <th>image</th>\n",
              "    </tr>\n",
              "  </thead>\n",
              "  <tbody>\n",
              "    <tr>\n",
              "      <th>0</th>\n",
              "      <td>15970</td>\n",
              "      <td>Men</td>\n",
              "      <td>Apparel</td>\n",
              "      <td>Topwear</td>\n",
              "      <td>Shirts</td>\n",
              "      <td>Navy Blue</td>\n",
              "      <td>Fall</td>\n",
              "      <td>2011.0</td>\n",
              "      <td>Casual</td>\n",
              "      <td>Turtle Check Men Navy Blue Shirt</td>\n",
              "      <td>15970.jpg</td>\n",
              "    </tr>\n",
              "    <tr>\n",
              "      <th>1</th>\n",
              "      <td>39386</td>\n",
              "      <td>Men</td>\n",
              "      <td>Apparel</td>\n",
              "      <td>Bottomwear</td>\n",
              "      <td>Jeans</td>\n",
              "      <td>Blue</td>\n",
              "      <td>Summer</td>\n",
              "      <td>2012.0</td>\n",
              "      <td>Casual</td>\n",
              "      <td>Peter England Men Party Blue Jeans</td>\n",
              "      <td>39386.jpg</td>\n",
              "    </tr>\n",
              "    <tr>\n",
              "      <th>2</th>\n",
              "      <td>59263</td>\n",
              "      <td>Women</td>\n",
              "      <td>Accessories</td>\n",
              "      <td>Watches</td>\n",
              "      <td>Watches</td>\n",
              "      <td>Silver</td>\n",
              "      <td>Winter</td>\n",
              "      <td>2016.0</td>\n",
              "      <td>Casual</td>\n",
              "      <td>Titan Women Silver Watch</td>\n",
              "      <td>59263.jpg</td>\n",
              "    </tr>\n",
              "    <tr>\n",
              "      <th>3</th>\n",
              "      <td>21379</td>\n",
              "      <td>Men</td>\n",
              "      <td>Apparel</td>\n",
              "      <td>Bottomwear</td>\n",
              "      <td>Track Pants</td>\n",
              "      <td>Black</td>\n",
              "      <td>Fall</td>\n",
              "      <td>2011.0</td>\n",
              "      <td>Casual</td>\n",
              "      <td>Manchester United Men Solid Black Track Pants</td>\n",
              "      <td>21379.jpg</td>\n",
              "    </tr>\n",
              "    <tr>\n",
              "      <th>4</th>\n",
              "      <td>53759</td>\n",
              "      <td>Men</td>\n",
              "      <td>Apparel</td>\n",
              "      <td>Topwear</td>\n",
              "      <td>Tshirts</td>\n",
              "      <td>Grey</td>\n",
              "      <td>Summer</td>\n",
              "      <td>2012.0</td>\n",
              "      <td>Casual</td>\n",
              "      <td>Puma Men Grey T-shirt</td>\n",
              "      <td>53759.jpg</td>\n",
              "    </tr>\n",
              "    <tr>\n",
              "      <th>...</th>\n",
              "      <td>...</td>\n",
              "      <td>...</td>\n",
              "      <td>...</td>\n",
              "      <td>...</td>\n",
              "      <td>...</td>\n",
              "      <td>...</td>\n",
              "      <td>...</td>\n",
              "      <td>...</td>\n",
              "      <td>...</td>\n",
              "      <td>...</td>\n",
              "      <td>...</td>\n",
              "    </tr>\n",
              "    <tr>\n",
              "      <th>44419</th>\n",
              "      <td>17036</td>\n",
              "      <td>Men</td>\n",
              "      <td>Footwear</td>\n",
              "      <td>Shoes</td>\n",
              "      <td>Casual Shoes</td>\n",
              "      <td>White</td>\n",
              "      <td>Summer</td>\n",
              "      <td>2013.0</td>\n",
              "      <td>Casual</td>\n",
              "      <td>Gas Men Caddy Casual Shoe</td>\n",
              "      <td>17036.jpg</td>\n",
              "    </tr>\n",
              "    <tr>\n",
              "      <th>44420</th>\n",
              "      <td>6461</td>\n",
              "      <td>Men</td>\n",
              "      <td>Footwear</td>\n",
              "      <td>Flip Flops</td>\n",
              "      <td>Flip Flops</td>\n",
              "      <td>Red</td>\n",
              "      <td>Summer</td>\n",
              "      <td>2011.0</td>\n",
              "      <td>Casual</td>\n",
              "      <td>Lotto Men's Soccer Track Flip Flop</td>\n",
              "      <td>6461.jpg</td>\n",
              "    </tr>\n",
              "    <tr>\n",
              "      <th>44421</th>\n",
              "      <td>18842</td>\n",
              "      <td>Men</td>\n",
              "      <td>Apparel</td>\n",
              "      <td>Topwear</td>\n",
              "      <td>Tshirts</td>\n",
              "      <td>Blue</td>\n",
              "      <td>Fall</td>\n",
              "      <td>2011.0</td>\n",
              "      <td>Casual</td>\n",
              "      <td>Puma Men Graphic Stellar Blue Tshirt</td>\n",
              "      <td>18842.jpg</td>\n",
              "    </tr>\n",
              "    <tr>\n",
              "      <th>44422</th>\n",
              "      <td>46694</td>\n",
              "      <td>Women</td>\n",
              "      <td>Personal Care</td>\n",
              "      <td>Fragrance</td>\n",
              "      <td>Perfume and Body Mist</td>\n",
              "      <td>Blue</td>\n",
              "      <td>Spring</td>\n",
              "      <td>2017.0</td>\n",
              "      <td>Casual</td>\n",
              "      <td>Rasasi Women Blue Lady Perfume</td>\n",
              "      <td>46694.jpg</td>\n",
              "    </tr>\n",
              "    <tr>\n",
              "      <th>44423</th>\n",
              "      <td>51623</td>\n",
              "      <td>Women</td>\n",
              "      <td>Accessories</td>\n",
              "      <td>Watches</td>\n",
              "      <td>Watches</td>\n",
              "      <td>Pink</td>\n",
              "      <td>Winter</td>\n",
              "      <td>2016.0</td>\n",
              "      <td>Casual</td>\n",
              "      <td>Fossil Women Pink Dial Chronograph Watch ES3050</td>\n",
              "      <td>51623.jpg</td>\n",
              "    </tr>\n",
              "  </tbody>\n",
              "</table>\n",
              "<p>44424 rows × 11 columns</p>\n",
              "</div>\n",
              "    <div class=\"colab-df-buttons\">\n",
              "\n",
              "  <div class=\"colab-df-container\">\n",
              "    <button class=\"colab-df-convert\" onclick=\"convertToInteractive('df-0e59d3b7-67d2-498b-af5e-4475b4b99811')\"\n",
              "            title=\"Convert this dataframe to an interactive table.\"\n",
              "            style=\"display:none;\">\n",
              "\n",
              "  <svg xmlns=\"http://www.w3.org/2000/svg\" height=\"24px\" viewBox=\"0 -960 960 960\">\n",
              "    <path d=\"M120-120v-720h720v720H120Zm60-500h600v-160H180v160Zm220 220h160v-160H400v160Zm0 220h160v-160H400v160ZM180-400h160v-160H180v160Zm440 0h160v-160H620v160ZM180-180h160v-160H180v160Zm440 0h160v-160H620v160Z\"/>\n",
              "  </svg>\n",
              "    </button>\n",
              "\n",
              "  <style>\n",
              "    .colab-df-container {\n",
              "      display:flex;\n",
              "      gap: 12px;\n",
              "    }\n",
              "\n",
              "    .colab-df-convert {\n",
              "      background-color: #E8F0FE;\n",
              "      border: none;\n",
              "      border-radius: 50%;\n",
              "      cursor: pointer;\n",
              "      display: none;\n",
              "      fill: #1967D2;\n",
              "      height: 32px;\n",
              "      padding: 0 0 0 0;\n",
              "      width: 32px;\n",
              "    }\n",
              "\n",
              "    .colab-df-convert:hover {\n",
              "      background-color: #E2EBFA;\n",
              "      box-shadow: 0px 1px 2px rgba(60, 64, 67, 0.3), 0px 1px 3px 1px rgba(60, 64, 67, 0.15);\n",
              "      fill: #174EA6;\n",
              "    }\n",
              "\n",
              "    .colab-df-buttons div {\n",
              "      margin-bottom: 4px;\n",
              "    }\n",
              "\n",
              "    [theme=dark] .colab-df-convert {\n",
              "      background-color: #3B4455;\n",
              "      fill: #D2E3FC;\n",
              "    }\n",
              "\n",
              "    [theme=dark] .colab-df-convert:hover {\n",
              "      background-color: #434B5C;\n",
              "      box-shadow: 0px 1px 3px 1px rgba(0, 0, 0, 0.15);\n",
              "      filter: drop-shadow(0px 1px 2px rgba(0, 0, 0, 0.3));\n",
              "      fill: #FFFFFF;\n",
              "    }\n",
              "  </style>\n",
              "\n",
              "    <script>\n",
              "      const buttonEl =\n",
              "        document.querySelector('#df-0e59d3b7-67d2-498b-af5e-4475b4b99811 button.colab-df-convert');\n",
              "      buttonEl.style.display =\n",
              "        google.colab.kernel.accessAllowed ? 'block' : 'none';\n",
              "\n",
              "      async function convertToInteractive(key) {\n",
              "        const element = document.querySelector('#df-0e59d3b7-67d2-498b-af5e-4475b4b99811');\n",
              "        const dataTable =\n",
              "          await google.colab.kernel.invokeFunction('convertToInteractive',\n",
              "                                                    [key], {});\n",
              "        if (!dataTable) return;\n",
              "\n",
              "        const docLinkHtml = 'Like what you see? Visit the ' +\n",
              "          '<a target=\"_blank\" href=https://colab.research.google.com/notebooks/data_table.ipynb>data table notebook</a>'\n",
              "          + ' to learn more about interactive tables.';\n",
              "        element.innerHTML = '';\n",
              "        dataTable['output_type'] = 'display_data';\n",
              "        await google.colab.output.renderOutput(dataTable, element);\n",
              "        const docLink = document.createElement('div');\n",
              "        docLink.innerHTML = docLinkHtml;\n",
              "        element.appendChild(docLink);\n",
              "      }\n",
              "    </script>\n",
              "  </div>\n",
              "\n",
              "\n",
              "<div id=\"df-db1500d5-918e-4de1-b6d0-8b3406b76158\">\n",
              "  <button class=\"colab-df-quickchart\" onclick=\"quickchart('df-db1500d5-918e-4de1-b6d0-8b3406b76158')\"\n",
              "            title=\"Suggest charts\"\n",
              "            style=\"display:none;\">\n",
              "\n",
              "<svg xmlns=\"http://www.w3.org/2000/svg\" height=\"24px\"viewBox=\"0 0 24 24\"\n",
              "     width=\"24px\">\n",
              "    <g>\n",
              "        <path d=\"M19 3H5c-1.1 0-2 .9-2 2v14c0 1.1.9 2 2 2h14c1.1 0 2-.9 2-2V5c0-1.1-.9-2-2-2zM9 17H7v-7h2v7zm4 0h-2V7h2v10zm4 0h-2v-4h2v4z\"/>\n",
              "    </g>\n",
              "</svg>\n",
              "  </button>\n",
              "\n",
              "<style>\n",
              "  .colab-df-quickchart {\n",
              "      --bg-color: #E8F0FE;\n",
              "      --fill-color: #1967D2;\n",
              "      --hover-bg-color: #E2EBFA;\n",
              "      --hover-fill-color: #174EA6;\n",
              "      --disabled-fill-color: #AAA;\n",
              "      --disabled-bg-color: #DDD;\n",
              "  }\n",
              "\n",
              "  [theme=dark] .colab-df-quickchart {\n",
              "      --bg-color: #3B4455;\n",
              "      --fill-color: #D2E3FC;\n",
              "      --hover-bg-color: #434B5C;\n",
              "      --hover-fill-color: #FFFFFF;\n",
              "      --disabled-bg-color: #3B4455;\n",
              "      --disabled-fill-color: #666;\n",
              "  }\n",
              "\n",
              "  .colab-df-quickchart {\n",
              "    background-color: var(--bg-color);\n",
              "    border: none;\n",
              "    border-radius: 50%;\n",
              "    cursor: pointer;\n",
              "    display: none;\n",
              "    fill: var(--fill-color);\n",
              "    height: 32px;\n",
              "    padding: 0;\n",
              "    width: 32px;\n",
              "  }\n",
              "\n",
              "  .colab-df-quickchart:hover {\n",
              "    background-color: var(--hover-bg-color);\n",
              "    box-shadow: 0 1px 2px rgba(60, 64, 67, 0.3), 0 1px 3px 1px rgba(60, 64, 67, 0.15);\n",
              "    fill: var(--button-hover-fill-color);\n",
              "  }\n",
              "\n",
              "  .colab-df-quickchart-complete:disabled,\n",
              "  .colab-df-quickchart-complete:disabled:hover {\n",
              "    background-color: var(--disabled-bg-color);\n",
              "    fill: var(--disabled-fill-color);\n",
              "    box-shadow: none;\n",
              "  }\n",
              "\n",
              "  .colab-df-spinner {\n",
              "    border: 2px solid var(--fill-color);\n",
              "    border-color: transparent;\n",
              "    border-bottom-color: var(--fill-color);\n",
              "    animation:\n",
              "      spin 1s steps(1) infinite;\n",
              "  }\n",
              "\n",
              "  @keyframes spin {\n",
              "    0% {\n",
              "      border-color: transparent;\n",
              "      border-bottom-color: var(--fill-color);\n",
              "      border-left-color: var(--fill-color);\n",
              "    }\n",
              "    20% {\n",
              "      border-color: transparent;\n",
              "      border-left-color: var(--fill-color);\n",
              "      border-top-color: var(--fill-color);\n",
              "    }\n",
              "    30% {\n",
              "      border-color: transparent;\n",
              "      border-left-color: var(--fill-color);\n",
              "      border-top-color: var(--fill-color);\n",
              "      border-right-color: var(--fill-color);\n",
              "    }\n",
              "    40% {\n",
              "      border-color: transparent;\n",
              "      border-right-color: var(--fill-color);\n",
              "      border-top-color: var(--fill-color);\n",
              "    }\n",
              "    60% {\n",
              "      border-color: transparent;\n",
              "      border-right-color: var(--fill-color);\n",
              "    }\n",
              "    80% {\n",
              "      border-color: transparent;\n",
              "      border-right-color: var(--fill-color);\n",
              "      border-bottom-color: var(--fill-color);\n",
              "    }\n",
              "    90% {\n",
              "      border-color: transparent;\n",
              "      border-bottom-color: var(--fill-color);\n",
              "    }\n",
              "  }\n",
              "</style>\n",
              "\n",
              "  <script>\n",
              "    async function quickchart(key) {\n",
              "      const quickchartButtonEl =\n",
              "        document.querySelector('#' + key + ' button');\n",
              "      quickchartButtonEl.disabled = true;  // To prevent multiple clicks.\n",
              "      quickchartButtonEl.classList.add('colab-df-spinner');\n",
              "      try {\n",
              "        const charts = await google.colab.kernel.invokeFunction(\n",
              "            'suggestCharts', [key], {});\n",
              "      } catch (error) {\n",
              "        console.error('Error during call to suggestCharts:', error);\n",
              "      }\n",
              "      quickchartButtonEl.classList.remove('colab-df-spinner');\n",
              "      quickchartButtonEl.classList.add('colab-df-quickchart-complete');\n",
              "    }\n",
              "    (() => {\n",
              "      let quickchartButtonEl =\n",
              "        document.querySelector('#df-db1500d5-918e-4de1-b6d0-8b3406b76158 button');\n",
              "      quickchartButtonEl.style.display =\n",
              "        google.colab.kernel.accessAllowed ? 'block' : 'none';\n",
              "    })();\n",
              "  </script>\n",
              "</div>\n",
              "    </div>\n",
              "  </div>\n"
            ]
          },
          "metadata": {},
          "execution_count": 6
        }
      ]
    },
    {
      "cell_type": "code",
      "source": [
        "# Show off banyak images\n",
        "print(\"Banyak Image: \", len(df))"
      ],
      "metadata": {
        "colab": {
          "base_uri": "https://localhost:8080/"
        },
        "id": "Qkhu8Oqm6Bx9",
        "outputId": "5ae0c077-c89d-47e4-9984-a9277646e61a"
      },
      "execution_count": null,
      "outputs": [
        {
          "output_type": "stream",
          "name": "stdout",
          "text": [
            "Banyak Image:  44424\n"
          ]
        }
      ]
    },
    {
      "cell_type": "code",
      "source": [
        "# Show the column data\n",
        "df.columns"
      ],
      "metadata": {
        "colab": {
          "base_uri": "https://localhost:8080/"
        },
        "id": "AX_xqcyV6JWz",
        "outputId": "a1b86f03-ce49-4c02-85a7-4275273e0170"
      },
      "execution_count": null,
      "outputs": [
        {
          "output_type": "execute_result",
          "data": {
            "text/plain": [
              "Index(['id', 'gender', 'masterCategory', 'subCategory', 'articleType',\n",
              "       'baseColour', 'season', 'year', 'usage', 'productDisplayName', 'image'],\n",
              "      dtype='object')"
            ]
          },
          "metadata": {},
          "execution_count": 8
        }
      ]
    },
    {
      "cell_type": "markdown",
      "source": [
        "## Clean Dataset"
      ],
      "metadata": {
        "id": "wElyGieV6LZY"
      }
    },
    {
      "cell_type": "code",
      "source": [
        "# Cek Null, or data kosong\n",
        "df.isnull().sum()"
      ],
      "metadata": {
        "colab": {
          "base_uri": "https://localhost:8080/"
        },
        "id": "iKXc5GCL6M7j",
        "outputId": "6dcaa034-ff0f-4c31-cea1-bce9d33f9c4a"
      },
      "execution_count": null,
      "outputs": [
        {
          "output_type": "execute_result",
          "data": {
            "text/plain": [
              "id                      0\n",
              "gender                  0\n",
              "masterCategory          0\n",
              "subCategory             0\n",
              "articleType             0\n",
              "baseColour             15\n",
              "season                 21\n",
              "year                    1\n",
              "usage                 317\n",
              "productDisplayName      7\n",
              "image                   0\n",
              "dtype: int64"
            ]
          },
          "metadata": {},
          "execution_count": 9
        }
      ]
    },
    {
      "cell_type": "code",
      "source": [
        "# Hapus Data kosong\n",
        "df = df.dropna()"
      ],
      "metadata": {
        "id": "37tO8T0u6UUO"
      },
      "execution_count": null,
      "outputs": []
    },
    {
      "cell_type": "code",
      "source": [
        "# Cek Null, or data kosong\n",
        "df.isnull().sum()"
      ],
      "metadata": {
        "colab": {
          "base_uri": "https://localhost:8080/"
        },
        "id": "FPN4DE-q6YU0",
        "outputId": "6f0c83bc-8ba8-4ca6-d7d2-25d6ebeb2558"
      },
      "execution_count": null,
      "outputs": [
        {
          "output_type": "execute_result",
          "data": {
            "text/plain": [
              "id                    0\n",
              "gender                0\n",
              "masterCategory        0\n",
              "subCategory           0\n",
              "articleType           0\n",
              "baseColour            0\n",
              "season                0\n",
              "year                  0\n",
              "usage                 0\n",
              "productDisplayName    0\n",
              "image                 0\n",
              "dtype: int64"
            ]
          },
          "metadata": {},
          "execution_count": 11
        }
      ]
    },
    {
      "cell_type": "code",
      "source": [
        "# Show off banyak images\n",
        "print(\"Banyak Image: \", len(df))"
      ],
      "metadata": {
        "colab": {
          "base_uri": "https://localhost:8080/"
        },
        "id": "ZwYW1SlM6btF",
        "outputId": "460615bb-293d-4011-b0ed-8b1790fbf4c0"
      },
      "execution_count": null,
      "outputs": [
        {
          "output_type": "stream",
          "name": "stdout",
          "text": [
            "Banyak Image:  44077\n"
          ]
        }
      ]
    },
    {
      "cell_type": "markdown",
      "source": [
        "# Filter Dataset"
      ],
      "metadata": {
        "id": "NbIovWrQ4WIB"
      }
    },
    {
      "cell_type": "markdown",
      "source": [
        "## Filter masterCategory"
      ],
      "metadata": {
        "id": "jOVji17u6kK4"
      }
    },
    {
      "cell_type": "code",
      "source": [
        "df['masterCategory'].value_counts()"
      ],
      "metadata": {
        "colab": {
          "base_uri": "https://localhost:8080/"
        },
        "id": "NjF_hqp26tiq",
        "outputId": "b24d6e49-fadc-49a4-ff1e-aaefbbd8aa01"
      },
      "execution_count": null,
      "outputs": [
        {
          "output_type": "execute_result",
          "data": {
            "text/plain": [
              "Apparel           21366\n",
              "Accessories       11244\n",
              "Footwear           9197\n",
              "Personal Care      2139\n",
              "Free Items          105\n",
              "Sporting Goods       25\n",
              "Home                  1\n",
              "Name: masterCategory, dtype: int64"
            ]
          },
          "metadata": {},
          "execution_count": 13
        }
      ]
    },
    {
      "cell_type": "code",
      "source": [
        "# Filter yang hanya akan digunakan saja\n",
        "ind=df[df['masterCategory']=='Accessories'].index\n",
        "df.drop(ind,inplace=True)\n",
        "\n",
        "ind=df[df['masterCategory']=='Footwear'].index\n",
        "df.drop(ind,inplace=True)\n",
        "\n",
        "ind=df[df['masterCategory']=='Personal Care'].index\n",
        "df.drop(ind,inplace=True)\n",
        "\n",
        "ind=df[df['masterCategory']=='Free Items'].index\n",
        "df.drop(ind,inplace=True)\n",
        "\n",
        "ind=df[df['masterCategory']=='Sporting Goods'].index\n",
        "df.drop(ind,inplace=True)\n",
        "\n",
        "ind=df[df['masterCategory']=='Home'].index\n",
        "df.drop(ind,inplace=True)\n"
      ],
      "metadata": {
        "colab": {
          "base_uri": "https://localhost:8080/"
        },
        "id": "AXCRmV9p67cb",
        "outputId": "4ca9fc2c-3471-4b9a-a530-5540d57896b9"
      },
      "execution_count": null,
      "outputs": [
        {
          "output_type": "stream",
          "name": "stderr",
          "text": [
            "<ipython-input-14-359e49f9933c>:3: SettingWithCopyWarning: \n",
            "A value is trying to be set on a copy of a slice from a DataFrame\n",
            "\n",
            "See the caveats in the documentation: https://pandas.pydata.org/pandas-docs/stable/user_guide/indexing.html#returning-a-view-versus-a-copy\n",
            "  df.drop(ind,inplace=True)\n",
            "<ipython-input-14-359e49f9933c>:6: SettingWithCopyWarning: \n",
            "A value is trying to be set on a copy of a slice from a DataFrame\n",
            "\n",
            "See the caveats in the documentation: https://pandas.pydata.org/pandas-docs/stable/user_guide/indexing.html#returning-a-view-versus-a-copy\n",
            "  df.drop(ind,inplace=True)\n",
            "<ipython-input-14-359e49f9933c>:9: SettingWithCopyWarning: \n",
            "A value is trying to be set on a copy of a slice from a DataFrame\n",
            "\n",
            "See the caveats in the documentation: https://pandas.pydata.org/pandas-docs/stable/user_guide/indexing.html#returning-a-view-versus-a-copy\n",
            "  df.drop(ind,inplace=True)\n",
            "<ipython-input-14-359e49f9933c>:12: SettingWithCopyWarning: \n",
            "A value is trying to be set on a copy of a slice from a DataFrame\n",
            "\n",
            "See the caveats in the documentation: https://pandas.pydata.org/pandas-docs/stable/user_guide/indexing.html#returning-a-view-versus-a-copy\n",
            "  df.drop(ind,inplace=True)\n",
            "<ipython-input-14-359e49f9933c>:15: SettingWithCopyWarning: \n",
            "A value is trying to be set on a copy of a slice from a DataFrame\n",
            "\n",
            "See the caveats in the documentation: https://pandas.pydata.org/pandas-docs/stable/user_guide/indexing.html#returning-a-view-versus-a-copy\n",
            "  df.drop(ind,inplace=True)\n",
            "<ipython-input-14-359e49f9933c>:18: SettingWithCopyWarning: \n",
            "A value is trying to be set on a copy of a slice from a DataFrame\n",
            "\n",
            "See the caveats in the documentation: https://pandas.pydata.org/pandas-docs/stable/user_guide/indexing.html#returning-a-view-versus-a-copy\n",
            "  df.drop(ind,inplace=True)\n"
          ]
        }
      ]
    },
    {
      "cell_type": "code",
      "source": [
        "# Show with visualize\n",
        "df['masterCategory'].value_counts().plot.barh()"
      ],
      "metadata": {
        "colab": {
          "base_uri": "https://localhost:8080/"
        },
        "id": "UVRMn0eq7J95",
        "outputId": "ec7a9846-1648-42af-f90f-437e859e8516"
      },
      "execution_count": null,
      "outputs": [
        {
          "output_type": "execute_result",
          "data": {
            "text/plain": [
              "<Axes: >"
            ]
          },
          "metadata": {},
          "execution_count": 15
        },
        {
          "output_type": "display_data",
          "data": {
            "text/plain": [
              "<Figure size 640x480 with 1 Axes>"
            ],
            "image/png": "[encoded data removed]"
          },
          "metadata": {}
        }
      ]
    },
    {
      "cell_type": "code",
      "source": [
        "print(len(df))"
      ],
      "metadata": {
        "colab": {
          "base_uri": "https://localhost:8080/"
        },
        "id": "_YPYM9237Odn",
        "outputId": "49088d41-4666-438c-f8a9-457f0cf43cbf"
      },
      "execution_count": null,
      "outputs": [
        {
          "output_type": "stream",
          "name": "stdout",
          "text": [
            "21366\n"
          ]
        }
      ]
    },
    {
      "cell_type": "markdown",
      "source": [
        "## usage (Kebutuhan untuk Kegiatan Khusus)"
      ],
      "metadata": {
        "id": "LnrzNrfO6m8L"
      }
    },
    {
      "cell_type": "code",
      "source": [
        "df['usage'].value_counts()"
      ],
      "metadata": {
        "colab": {
          "base_uri": "https://localhost:8080/"
        },
        "id": "PuSFv4fj7XMb",
        "outputId": "6cc8f892-dfdc-4663-8256-3765398b9301"
      },
      "execution_count": null,
      "outputs": [
        {
          "output_type": "execute_result",
          "data": {
            "text/plain": [
              "Casual          15596\n",
              "Ethnic           2960\n",
              "Sports           1594\n",
              "Formal           1172\n",
              "Party              22\n",
              "Smart Casual       21\n",
              "Travel              1\n",
              "Name: usage, dtype: int64"
            ]
          },
          "metadata": {},
          "execution_count": 17
        }
      ]
    },
    {
      "cell_type": "code",
      "source": [
        "# Drop in column yang tidak akan dipakai\n",
        "ind=df[df['usage']=='Ethnic'].index\n",
        "df.drop(ind,inplace=True)"
      ],
      "metadata": {
        "colab": {
          "base_uri": "https://localhost:8080/"
        },
        "id": "OA3a4h0e7fiz",
        "outputId": "0cf47b5a-89d2-4bcb-beda-13b19fdc65b0"
      },
      "execution_count": null,
      "outputs": [
        {
          "output_type": "stream",
          "name": "stderr",
          "text": [
            "<ipython-input-18-b963589c93bf>:3: SettingWithCopyWarning: \n",
            "A value is trying to be set on a copy of a slice from a DataFrame\n",
            "\n",
            "See the caveats in the documentation: https://pandas.pydata.org/pandas-docs/stable/user_guide/indexing.html#returning-a-view-versus-a-copy\n",
            "  df.drop(ind,inplace=True)\n"
          ]
        }
      ]
    },
    {
      "cell_type": "code",
      "source": [
        "# Show with visualize\n",
        "df['usage'].value_counts().plot.barh()"
      ],
      "metadata": {
        "colab": {
          "base_uri": "https://localhost:8080/"
        },
        "id": "OgS78xVR74OP",
        "outputId": "7a583940-9b12-486e-a188-08132ad507c4"
      },
      "execution_count": null,
      "outputs": [
        {
          "output_type": "execute_result",
          "data": {
            "text/plain": [
              "<Axes: >"
            ]
          },
          "metadata": {},
          "execution_count": 19
        },
        {
          "output_type": "display_data",
          "data": {
            "text/plain": [
              "<Figure size 640x480 with 1 Axes>"
            ],
            "image/png": "[encoded data removed]"
          },
          "metadata": {}
        }
      ]
    },
    {
      "cell_type": "code",
      "source": [
        "len(df)"
      ],
      "metadata": {
        "colab": {
          "base_uri": "https://localhost:8080/"
        },
        "id": "DV4cdBhm7uPv",
        "outputId": "7000372a-63cc-4dae-c697-c923fac50913"
      },
      "execution_count": null,
      "outputs": [
        {
          "output_type": "execute_result",
          "data": {
            "text/plain": [
              "18406"
            ]
          },
          "metadata": {},
          "execution_count": 20
        }
      ]
    },
    {
      "cell_type": "markdown",
      "source": [
        "## Filter subCategory"
      ],
      "metadata": {
        "id": "sd9gfnD16qVU"
      }
    },
    {
      "cell_type": "code",
      "source": [
        "df['subCategory'].value_counts()"
      ],
      "metadata": {
        "colab": {
          "base_uri": "https://localhost:8080/"
        },
        "id": "ZnUEm3nb8PlC",
        "outputId": "27b0de30-e414-4f34-c08d-4017dd900fd2"
      },
      "execution_count": null,
      "outputs": [
        {
          "output_type": "execute_result",
          "data": {
            "text/plain": [
              "Topwear                     13105\n",
              "Bottomwear                   2531\n",
              "Innerwear                    1806\n",
              "Dress                         478\n",
              "Loungewear and Nightwear      462\n",
              "Socks                          12\n",
              "Apparel Set                    12\n",
              "Name: subCategory, dtype: int64"
            ]
          },
          "metadata": {},
          "execution_count": 21
        }
      ]
    },
    {
      "cell_type": "code",
      "source": [
        "# Hapus Innerwear\n",
        "ind=df[df['subCategory']=='Innerwear'].index\n",
        "df.drop(ind,inplace=True)\n",
        "\n",
        "ind=df[df['subCategory']=='Socks'].index\n",
        "df.drop(ind,inplace=True)"
      ],
      "metadata": {
        "colab": {
          "base_uri": "https://localhost:8080/"
        },
        "id": "wrJjVqKM8cEh",
        "outputId": "5764210d-a333-451b-8c73-467d155dc17f"
      },
      "execution_count": null,
      "outputs": [
        {
          "output_type": "stream",
          "name": "stderr",
          "text": [
            "<ipython-input-22-bff19bcfd8f2>:3: SettingWithCopyWarning: \n",
            "A value is trying to be set on a copy of a slice from a DataFrame\n",
            "\n",
            "See the caveats in the documentation: https://pandas.pydata.org/pandas-docs/stable/user_guide/indexing.html#returning-a-view-versus-a-copy\n",
            "  df.drop(ind,inplace=True)\n",
            "<ipython-input-22-bff19bcfd8f2>:6: SettingWithCopyWarning: \n",
            "A value is trying to be set on a copy of a slice from a DataFrame\n",
            "\n",
            "See the caveats in the documentation: https://pandas.pydata.org/pandas-docs/stable/user_guide/indexing.html#returning-a-view-versus-a-copy\n",
            "  df.drop(ind,inplace=True)\n"
          ]
        }
      ]
    },
    {
      "cell_type": "code",
      "source": [
        "df['subCategory'].value_counts()"
      ],
      "metadata": {
        "colab": {
          "base_uri": "https://localhost:8080/"
        },
        "id": "aawII-Gn8yq9",
        "outputId": "3c266044-7a56-42bd-bc00-fb47118e3886"
      },
      "execution_count": null,
      "outputs": [
        {
          "output_type": "execute_result",
          "data": {
            "text/plain": [
              "Topwear                     13105\n",
              "Bottomwear                   2531\n",
              "Dress                         478\n",
              "Loungewear and Nightwear      462\n",
              "Apparel Set                    12\n",
              "Name: subCategory, dtype: int64"
            ]
          },
          "metadata": {},
          "execution_count": 23
        }
      ]
    },
    {
      "cell_type": "markdown",
      "source": [
        "## Filter articleType"
      ],
      "metadata": {
        "id": "epQ-FFSL9R00"
      }
    },
    {
      "cell_type": "code",
      "source": [
        "len(df)"
      ],
      "metadata": {
        "colab": {
          "base_uri": "https://localhost:8080/"
        },
        "id": "_5saKFBJ9Raw",
        "outputId": "7b0f9cf7-29bc-40fb-ecf3-6631acd9a69c"
      },
      "execution_count": null,
      "outputs": [
        {
          "output_type": "execute_result",
          "data": {
            "text/plain": [
              "16588"
            ]
          },
          "metadata": {},
          "execution_count": 24
        }
      ]
    },
    {
      "cell_type": "code",
      "source": [
        "df['articleType'].value_counts()"
      ],
      "metadata": {
        "colab": {
          "base_uri": "https://localhost:8080/"
        },
        "id": "AoZtkhUh9Woi",
        "outputId": "e4ec429f-44f5-4848-8c61-8bac7c6d210f"
      },
      "execution_count": null,
      "outputs": [
        {
          "output_type": "execute_result",
          "data": {
            "text/plain": [
              "Tshirts           7065\n",
              "Shirts            3201\n",
              "Tops              1716\n",
              "Jeans              603\n",
              "Shorts             547\n",
              "Trousers           525\n",
              "Dresses            464\n",
              "Track Pants        304\n",
              "Sweatshirts        285\n",
              "Sweaters           277\n",
              "Jackets            257\n",
              "Tunics             202\n",
              "Nightdress         188\n",
              "Capris             173\n",
              "Leggings           147\n",
              "Night suits        141\n",
              "Skirts             117\n",
              "Lounge Pants        59\n",
              "Suspenders          40\n",
              "Jeggings            34\n",
              "Lounge Shorts       34\n",
              "Stockings           32\n",
              "Tracksuits          29\n",
              "Bath Robe           17\n",
              "Swimwear            17\n",
              "Jumpsuit            16\n",
              "Baby Dolls          14\n",
              "Waistcoat           14\n",
              "Rompers             12\n",
              "Tights               9\n",
              "Blazers              8\n",
              "Clothing Set         8\n",
              "Kurtas               7\n",
              "Rain Jacket          7\n",
              "Shrug                6\n",
              "Robe                 4\n",
              "Belts                3\n",
              "Lounge Tshirts       3\n",
              "Kurtis               2\n",
              "Suits                1\n",
              "Name: articleType, dtype: int64"
            ]
          },
          "metadata": {},
          "execution_count": 25
        }
      ]
    },
    {
      "cell_type": "code",
      "source": [
        "ind=df[df['articleType']=='Tunics'].index\n",
        "df.drop(ind,inplace=True)\n",
        "\n",
        "ind=df[df['articleType']=='Stockings'].index\n",
        "df.drop(ind,inplace=True)\n",
        "\n",
        "ind=df[df['articleType']=='Baby Dolls'].index\n",
        "df.drop(ind,inplace=True)\n",
        "\n",
        "ind=df[df['articleType']=='Clothing Set'].index\n",
        "df.drop(ind,inplace=True)\n",
        "\n",
        "ind=df[df['articleType']=='Belts'].index\n",
        "df.drop(ind,inplace=True)\n",
        "\n",
        "ind=df[df['articleType']=='Kurtis'].index\n",
        "df.drop(ind,inplace=True)\n",
        "ind=df[df['articleType']=='Suits'].index\n",
        "df.drop(ind,inplace=True)\n",
        "\n",
        "\n",
        "\n"
      ],
      "metadata": {
        "colab": {
          "base_uri": "https://localhost:8080/"
        },
        "id": "ukdn10yJ9jcz",
        "outputId": "16073a2e-f49c-4cdb-c20a-669c80a32247"
      },
      "execution_count": null,
      "outputs": [
        {
          "output_type": "stream",
          "name": "stderr",
          "text": [
            "<ipython-input-26-ec7de4497d09>:2: SettingWithCopyWarning: \n",
            "A value is trying to be set on a copy of a slice from a DataFrame\n",
            "\n",
            "See the caveats in the documentation: https://pandas.pydata.org/pandas-docs/stable/user_guide/indexing.html#returning-a-view-versus-a-copy\n",
            "  df.drop(ind,inplace=True)\n",
            "<ipython-input-26-ec7de4497d09>:5: SettingWithCopyWarning: \n",
            "A value is trying to be set on a copy of a slice from a DataFrame\n",
            "\n",
            "See the caveats in the documentation: https://pandas.pydata.org/pandas-docs/stable/user_guide/indexing.html#returning-a-view-versus-a-copy\n",
            "  df.drop(ind,inplace=True)\n",
            "<ipython-input-26-ec7de4497d09>:8: SettingWithCopyWarning: \n",
            "A value is trying to be set on a copy of a slice from a DataFrame\n",
            "\n",
            "See the caveats in the documentation: https://pandas.pydata.org/pandas-docs/stable/user_guide/indexing.html#returning-a-view-versus-a-copy\n",
            "  df.drop(ind,inplace=True)\n",
            "<ipython-input-26-ec7de4497d09>:11: SettingWithCopyWarning: \n",
            "A value is trying to be set on a copy of a slice from a DataFrame\n",
            "\n",
            "See the caveats in the documentation: https://pandas.pydata.org/pandas-docs/stable/user_guide/indexing.html#returning-a-view-versus-a-copy\n",
            "  df.drop(ind,inplace=True)\n",
            "<ipython-input-26-ec7de4497d09>:14: SettingWithCopyWarning: \n",
            "A value is trying to be set on a copy of a slice from a DataFrame\n",
            "\n",
            "See the caveats in the documentation: https://pandas.pydata.org/pandas-docs/stable/user_guide/indexing.html#returning-a-view-versus-a-copy\n",
            "  df.drop(ind,inplace=True)\n",
            "<ipython-input-26-ec7de4497d09>:17: SettingWithCopyWarning: \n",
            "A value is trying to be set on a copy of a slice from a DataFrame\n",
            "\n",
            "See the caveats in the documentation: https://pandas.pydata.org/pandas-docs/stable/user_guide/indexing.html#returning-a-view-versus-a-copy\n",
            "  df.drop(ind,inplace=True)\n",
            "<ipython-input-26-ec7de4497d09>:19: SettingWithCopyWarning: \n",
            "A value is trying to be set on a copy of a slice from a DataFrame\n",
            "\n",
            "See the caveats in the documentation: https://pandas.pydata.org/pandas-docs/stable/user_guide/indexing.html#returning-a-view-versus-a-copy\n",
            "  df.drop(ind,inplace=True)\n"
          ]
        }
      ]
    },
    {
      "cell_type": "code",
      "source": [
        "# Show with visualize\n",
        "df['articleType'].value_counts().plot.barh()"
      ],
      "metadata": {
        "colab": {
          "base_uri": "https://localhost:8080/",
          "height": 447
        },
        "id": "kikPz1U--tMa",
        "outputId": "f2625f3f-f5e5-443b-8a1c-43e83b5d9e16"
      },
      "execution_count": null,
      "outputs": [
        {
          "output_type": "execute_result",
          "data": {
            "text/plain": [
              "<Axes: >"
            ]
          },
          "metadata": {},
          "execution_count": 27
        },
        {
          "output_type": "display_data",
          "data": {
            "text/plain": [
              "<Figure size 640x480 with 1 Axes>"
            ],
            "image/png": "[encoded data removed]"
          },
          "metadata": {}
        }
      ]
    },
    {
      "cell_type": "code",
      "source": [
        "df['articleType'].value_counts()"
      ],
      "metadata": {
        "colab": {
          "base_uri": "https://localhost:8080/"
        },
        "id": "2vC8cZXr_XI9",
        "outputId": "abc18061-a3ee-4c90-e109-4bf876094781"
      },
      "execution_count": null,
      "outputs": [
        {
          "output_type": "execute_result",
          "data": {
            "text/plain": [
              "Tshirts           7065\n",
              "Shirts            3201\n",
              "Tops              1716\n",
              "Jeans              603\n",
              "Shorts             547\n",
              "Trousers           525\n",
              "Dresses            464\n",
              "Track Pants        304\n",
              "Sweatshirts        285\n",
              "Sweaters           277\n",
              "Jackets            257\n",
              "Nightdress         188\n",
              "Capris             173\n",
              "Leggings           147\n",
              "Night suits        141\n",
              "Skirts             117\n",
              "Lounge Pants        59\n",
              "Suspenders          40\n",
              "Jeggings            34\n",
              "Lounge Shorts       34\n",
              "Tracksuits          29\n",
              "Bath Robe           17\n",
              "Swimwear            17\n",
              "Jumpsuit            16\n",
              "Waistcoat           14\n",
              "Rompers             12\n",
              "Tights               9\n",
              "Blazers              8\n",
              "Kurtas               7\n",
              "Rain Jacket          7\n",
              "Shrug                6\n",
              "Robe                 4\n",
              "Lounge Tshirts       3\n",
              "Name: articleType, dtype: int64"
            ]
          },
          "metadata": {},
          "execution_count": 28
        }
      ]
    },
    {
      "cell_type": "code",
      "source": [
        "len(df['articleType'].value_counts())"
      ],
      "metadata": {
        "colab": {
          "base_uri": "https://localhost:8080/"
        },
        "id": "dXZQdOI6-2-l",
        "outputId": "8d455171-3eeb-4b09-c8e1-529c9186bd49"
      },
      "execution_count": null,
      "outputs": [
        {
          "output_type": "execute_result",
          "data": {
            "text/plain": [
              "33"
            ]
          },
          "metadata": {},
          "execution_count": 29
        }
      ]
    },
    {
      "cell_type": "code",
      "source": [
        "# Filter type we will use\n",
        "type_counts = df['articleType'].value_counts()\n",
        "\n",
        "indexes = type_counts.index\n",
        "\n",
        "values = type_counts.values\n",
        "\n",
        "for i in range(len(type_counts)):\n",
        "\n",
        "    if values[i] <100:\n",
        "        break\n",
        "\n",
        "types_used = indexes[:i]\n",
        "\n",
        "print('Article types used: ',types_used)"
      ],
      "metadata": {
        "colab": {
          "base_uri": "https://localhost:8080/"
        },
        "id": "tIKRLnCf_kNu",
        "outputId": "76bab960-f50e-49da-e872-67b3d82add4b"
      },
      "execution_count": null,
      "outputs": [
        {
          "output_type": "stream",
          "name": "stdout",
          "text": [
            "Article types used:  Index(['Tshirts', 'Shirts', 'Tops', 'Jeans', 'Shorts', 'Trousers', 'Dresses',\n",
            "       'Track Pants', 'Sweatshirts', 'Sweaters', 'Jackets', 'Nightdress',\n",
            "       'Capris', 'Leggings', 'Night suits', 'Skirts'],\n",
            "      dtype='object')\n"
          ]
        }
      ]
    },
    {
      "cell_type": "code",
      "source": [
        "# Implement to the df\n",
        "df = df[df['articleType'].isin(types_used)]"
      ],
      "metadata": {
        "id": "_XMFAm8g_4xS"
      },
      "execution_count": null,
      "outputs": []
    },
    {
      "cell_type": "code",
      "source": [
        "len(df['articleType'].value_counts())"
      ],
      "metadata": {
        "colab": {
          "base_uri": "https://localhost:8080/"
        },
        "id": "Tedsu2FK_-Br",
        "outputId": "0579db6a-ef97-4b6b-ecae-956f1bd0ff72"
      },
      "execution_count": null,
      "outputs": [
        {
          "output_type": "execute_result",
          "data": {
            "text/plain": [
              "16"
            ]
          },
          "metadata": {},
          "execution_count": 32
        }
      ]
    },
    {
      "cell_type": "markdown",
      "source": [
        "# Show the image"
      ],
      "metadata": {
        "id": "K2ZvxApoAKT_"
      }
    },
    {
      "cell_type": "code",
      "source": [
        "len(df)"
      ],
      "metadata": {
        "colab": {
          "base_uri": "https://localhost:8080/"
        },
        "id": "p_I46k4yAOtB",
        "outputId": "d1cfbee6-eb46-4de2-9022-a0035586d0e5"
      },
      "execution_count": null,
      "outputs": [
        {
          "output_type": "execute_result",
          "data": {
            "text/plain": [
              "16010"
            ]
          },
          "metadata": {},
          "execution_count": 33
        }
      ]
    },
    {
      "cell_type": "code",
      "source": [
        "df['subCategory'].value_counts()"
      ],
      "metadata": {
        "colab": {
          "base_uri": "https://localhost:8080/"
        },
        "id": "MLiuFbPzCv6k",
        "outputId": "e6bc7aeb-1289-451c-bbc5-b3f729e22e9a"
      },
      "execution_count": null,
      "outputs": [
        {
          "output_type": "execute_result",
          "data": {
            "text/plain": [
              "Topwear                     12803\n",
              "Bottomwear                   2414\n",
              "Dress                         462\n",
              "Loungewear and Nightwear      331\n",
              "Name: subCategory, dtype: int64"
            ]
          },
          "metadata": {},
          "execution_count": 34
        }
      ]
    },
    {
      "cell_type": "code",
      "source": [
        "df=df.sample(frac=0.5)"
      ],
      "metadata": {
        "id": "vUcIwMmXASvc"
      },
      "execution_count": null,
      "outputs": []
    },
    {
      "cell_type": "code",
      "source": [
        "df = df[['id', 'masterCategory', 'subCategory', 'articleType', 'usage', 'baseColour']]"
      ],
      "metadata": {
        "id": "aOWaX4sLAUwv"
      },
      "execution_count": null,
      "outputs": []
    },
    {
      "cell_type": "code",
      "source": [
        "df['image'] = df.apply(lambda row:str(row['id']) + \".jpg\", axis=1)\n",
        "df.head(10)"
      ],
      "metadata": {
        "colab": {
          "base_uri": "https://localhost:8080/",
          "height": 363
        },
        "id": "RdX0WimrAZWt",
        "outputId": "251e0db7-55ea-4992-a6d4-c1f81d90fea0"
      },
      "execution_count": null,
      "outputs": [
        {
          "output_type": "execute_result",
          "data": {
            "text/plain": [
              "          id masterCategory               subCategory  articleType   usage  \\\n",
              "18326  55821        Apparel  Loungewear and Nightwear  Night suits  Casual   \n",
              "8997   14722        Apparel                   Topwear       Shirts  Casual   \n",
              "20113   6202        Apparel                   Topwear      Tshirts  Casual   \n",
              "3805   16704        Apparel                   Topwear      Tshirts  Casual   \n",
              "14144   5101        Apparel                   Topwear      Tshirts  Casual   \n",
              "16446  31645        Apparel                   Topwear       Shirts  Formal   \n",
              "28191   7487        Apparel                Bottomwear  Track Pants  Sports   \n",
              "5422   19524        Apparel                   Topwear     Sweaters  Casual   \n",
              "31192   6905        Apparel                   Topwear      Tshirts  Casual   \n",
              "26009  15910        Apparel                   Topwear       Shirts  Formal   \n",
              "\n",
              "         baseColour      image  \n",
              "18326  Grey Melange  55821.jpg  \n",
              "8997          Black  14722.jpg  \n",
              "20113         Beige   6202.jpg  \n",
              "3805      Navy Blue  16704.jpg  \n",
              "14144         White   5101.jpg  \n",
              "16446        Purple  31645.jpg  \n",
              "28191         Black   7487.jpg  \n",
              "5422           Blue  19524.jpg  \n",
              "31192          Pink   6905.jpg  \n",
              "26009          Grey  15910.jpg  "
            ],
            "text/html": [
              "\n",
              "  <div id=\"df-fe9ac4d1-5d49-4097-acac-04ada6d8c592\" class=\"colab-df-container\">\n",
              "    <div>\n",
              "<style scoped>\n",
              "    .dataframe tbody tr th:only-of-type {\n",
              "        vertical-align: middle;\n",
              "    }\n",
              "\n",
              "    .dataframe tbody tr th {\n",
              "        vertical-align: top;\n",
              "    }\n",
              "\n",
              "    .dataframe thead th {\n",
              "        text-align: right;\n",
              "    }\n",
              "</style>\n",
              "<table border=\"1\" class=\"dataframe\">\n",
              "  <thead>\n",
              "    <tr style=\"text-align: right;\">\n",
              "      <th></th>\n",
              "      <th>id</th>\n",
              "      <th>masterCategory</th>\n",
              "      <th>subCategory</th>\n",
              "      <th>articleType</th>\n",
              "      <th>usage</th>\n",
              "      <th>baseColour</th>\n",
              "      <th>image</th>\n",
              "    </tr>\n",
              "  </thead>\n",
              "  <tbody>\n",
              "    <tr>\n",
              "      <th>18326</th>\n",
              "      <td>55821</td>\n",
              "      <td>Apparel</td>\n",
              "      <td>Loungewear and Nightwear</td>\n",
              "      <td>Night suits</td>\n",
              "      <td>Casual</td>\n",
              "      <td>Grey Melange</td>\n",
              "      <td>55821.jpg</td>\n",
              "    </tr>\n",
              "    <tr>\n",
              "      <th>8997</th>\n",
              "      <td>14722</td>\n",
              "      <td>Apparel</td>\n",
              "      <td>Topwear</td>\n",
              "      <td>Shirts</td>\n",
              "      <td>Casual</td>\n",
              "      <td>Black</td>\n",
              "      <td>14722.jpg</td>\n",
              "    </tr>\n",
              "    <tr>\n",
              "      <th>20113</th>\n",
              "      <td>6202</td>\n",
              "      <td>Apparel</td>\n",
              "      <td>Topwear</td>\n",
              "      <td>Tshirts</td>\n",
              "      <td>Casual</td>\n",
              "      <td>Beige</td>\n",
              "      <td>6202.jpg</td>\n",
              "    </tr>\n",
              "    <tr>\n",
              "      <th>3805</th>\n",
              "      <td>16704</td>\n",
              "      <td>Apparel</td>\n",
              "      <td>Topwear</td>\n",
              "      <td>Tshirts</td>\n",
              "      <td>Casual</td>\n",
              "      <td>Navy Blue</td>\n",
              "      <td>16704.jpg</td>\n",
              "    </tr>\n",
              "    <tr>\n",
              "      <th>14144</th>\n",
              "      <td>5101</td>\n",
              "      <td>Apparel</td>\n",
              "      <td>Topwear</td>\n",
              "      <td>Tshirts</td>\n",
              "      <td>Casual</td>\n",
              "      <td>White</td>\n",
              "      <td>5101.jpg</td>\n",
              "    </tr>\n",
              "    <tr>\n",
              "      <th>16446</th>\n",
              "      <td>31645</td>\n",
              "      <td>Apparel</td>\n",
              "      <td>Topwear</td>\n",
              "      <td>Shirts</td>\n",
              "      <td>Formal</td>\n",
              "      <td>Purple</td>\n",
              "      <td>31645.jpg</td>\n",
              "    </tr>\n",
              "    <tr>\n",
              "      <th>28191</th>\n",
              "      <td>7487</td>\n",
              "      <td>Apparel</td>\n",
              "      <td>Bottomwear</td>\n",
              "      <td>Track Pants</td>\n",
              "      <td>Sports</td>\n",
              "      <td>Black</td>\n",
              "      <td>7487.jpg</td>\n",
              "    </tr>\n",
              "    <tr>\n",
              "      <th>5422</th>\n",
              "      <td>19524</td>\n",
              "      <td>Apparel</td>\n",
              "      <td>Topwear</td>\n",
              "      <td>Sweaters</td>\n",
              "      <td>Casual</td>\n",
              "      <td>Blue</td>\n",
              "      <td>19524.jpg</td>\n",
              "    </tr>\n",
              "    <tr>\n",
              "      <th>31192</th>\n",
              "      <td>6905</td>\n",
              "      <td>Apparel</td>\n",
              "      <td>Topwear</td>\n",
              "      <td>Tshirts</td>\n",
              "      <td>Casual</td>\n",
              "      <td>Pink</td>\n",
              "      <td>6905.jpg</td>\n",
              "    </tr>\n",
              "    <tr>\n",
              "      <th>26009</th>\n",
              "      <td>15910</td>\n",
              "      <td>Apparel</td>\n",
              "      <td>Topwear</td>\n",
              "      <td>Shirts</td>\n",
              "      <td>Formal</td>\n",
              "      <td>Grey</td>\n",
              "      <td>15910.jpg</td>\n",
              "    </tr>\n",
              "  </tbody>\n",
              "</table>\n",
              "</div>\n",
              "    <div class=\"colab-df-buttons\">\n",
              "\n",
              "  <div class=\"colab-df-container\">\n",
              "    <button class=\"colab-df-convert\" onclick=\"convertToInteractive('df-fe9ac4d1-5d49-4097-acac-04ada6d8c592')\"\n",
              "            title=\"Convert this dataframe to an interactive table.\"\n",
              "            style=\"display:none;\">\n",
              "\n",
              "  <svg xmlns=\"http://www.w3.org/2000/svg\" height=\"24px\" viewBox=\"0 -960 960 960\">\n",
              "    <path d=\"M120-120v-720h720v720H120Zm60-500h600v-160H180v160Zm220 220h160v-160H400v160Zm0 220h160v-160H400v160ZM180-400h160v-160H180v160Zm440 0h160v-160H620v160ZM180-180h160v-160H180v160Zm440 0h160v-160H620v160Z\"/>\n",
              "  </svg>\n",
              "    </button>\n",
              "\n",
              "  <style>\n",
              "    .colab-df-container {\n",
              "      display:flex;\n",
              "      gap: 12px;\n",
              "    }\n",
              "\n",
              "    .colab-df-convert {\n",
              "      background-color: #E8F0FE;\n",
              "      border: none;\n",
              "      border-radius: 50%;\n",
              "      cursor: pointer;\n",
              "      display: none;\n",
              "      fill: #1967D2;\n",
              "      height: 32px;\n",
              "      padding: 0 0 0 0;\n",
              "      width: 32px;\n",
              "    }\n",
              "\n",
              "    .colab-df-convert:hover {\n",
              "      background-color: #E2EBFA;\n",
              "      box-shadow: 0px 1px 2px rgba(60, 64, 67, 0.3), 0px 1px 3px 1px rgba(60, 64, 67, 0.15);\n",
              "      fill: #174EA6;\n",
              "    }\n",
              "\n",
              "    .colab-df-buttons div {\n",
              "      margin-bottom: 4px;\n",
              "    }\n",
              "\n",
              "    [theme=dark] .colab-df-convert {\n",
              "      background-color: #3B4455;\n",
              "      fill: #D2E3FC;\n",
              "    }\n",
              "\n",
              "    [theme=dark] .colab-df-convert:hover {\n",
              "      background-color: #434B5C;\n",
              "      box-shadow: 0px 1px 3px 1px rgba(0, 0, 0, 0.15);\n",
              "      filter: drop-shadow(0px 1px 2px rgba(0, 0, 0, 0.3));\n",
              "      fill: #FFFFFF;\n",
              "    }\n",
              "  </style>\n",
              "\n",
              "    <script>\n",
              "      const buttonEl =\n",
              "        document.querySelector('#df-fe9ac4d1-5d49-4097-acac-04ada6d8c592 button.colab-df-convert');\n",
              "      buttonEl.style.display =\n",
              "        google.colab.kernel.accessAllowed ? 'block' : 'none';\n",
              "\n",
              "      async function convertToInteractive(key) {\n",
              "        const element = document.querySelector('#df-fe9ac4d1-5d49-4097-acac-04ada6d8c592');\n",
              "        const dataTable =\n",
              "          await google.colab.kernel.invokeFunction('convertToInteractive',\n",
              "                                                    [key], {});\n",
              "        if (!dataTable) return;\n",
              "\n",
              "        const docLinkHtml = 'Like what you see? Visit the ' +\n",
              "          '<a target=\"_blank\" href=https://colab.research.google.com/notebooks/data_table.ipynb>data table notebook</a>'\n",
              "          + ' to learn more about interactive tables.';\n",
              "        element.innerHTML = '';\n",
              "        dataTable['output_type'] = 'display_data';\n",
              "        await google.colab.output.renderOutput(dataTable, element);\n",
              "        const docLink = document.createElement('div');\n",
              "        docLink.innerHTML = docLinkHtml;\n",
              "        element.appendChild(docLink);\n",
              "      }\n",
              "    </script>\n",
              "  </div>\n",
              "\n",
              "\n",
              "<div id=\"df-e6b92dc1-b420-4b8d-888d-cf2658211273\">\n",
              "  <button class=\"colab-df-quickchart\" onclick=\"quickchart('df-e6b92dc1-b420-4b8d-888d-cf2658211273')\"\n",
              "            title=\"Suggest charts\"\n",
              "            style=\"display:none;\">\n",
              "\n",
              "<svg xmlns=\"http://www.w3.org/2000/svg\" height=\"24px\"viewBox=\"0 0 24 24\"\n",
              "     width=\"24px\">\n",
              "    <g>\n",
              "        <path d=\"M19 3H5c-1.1 0-2 .9-2 2v14c0 1.1.9 2 2 2h14c1.1 0 2-.9 2-2V5c0-1.1-.9-2-2-2zM9 17H7v-7h2v7zm4 0h-2V7h2v10zm4 0h-2v-4h2v4z\"/>\n",
              "    </g>\n",
              "</svg>\n",
              "  </button>\n",
              "\n",
              "<style>\n",
              "  .colab-df-quickchart {\n",
              "      --bg-color: #E8F0FE;\n",
              "      --fill-color: #1967D2;\n",
              "      --hover-bg-color: #E2EBFA;\n",
              "      --hover-fill-color: #174EA6;\n",
              "      --disabled-fill-color: #AAA;\n",
              "      --disabled-bg-color: #DDD;\n",
              "  }\n",
              "\n",
              "  [theme=dark] .colab-df-quickchart {\n",
              "      --bg-color: #3B4455;\n",
              "      --fill-color: #D2E3FC;\n",
              "      --hover-bg-color: #434B5C;\n",
              "      --hover-fill-color: #FFFFFF;\n",
              "      --disabled-bg-color: #3B4455;\n",
              "      --disabled-fill-color: #666;\n",
              "  }\n",
              "\n",
              "  .colab-df-quickchart {\n",
              "    background-color: var(--bg-color);\n",
              "    border: none;\n",
              "    border-radius: 50%;\n",
              "    cursor: pointer;\n",
              "    display: none;\n",
              "    fill: var(--fill-color);\n",
              "    height: 32px;\n",
              "    padding: 0;\n",
              "    width: 32px;\n",
              "  }\n",
              "\n",
              "  .colab-df-quickchart:hover {\n",
              "    background-color: var(--hover-bg-color);\n",
              "    box-shadow: 0 1px 2px rgba(60, 64, 67, 0.3), 0 1px 3px 1px rgba(60, 64, 67, 0.15);\n",
              "    fill: var(--button-hover-fill-color);\n",
              "  }\n",
              "\n",
              "  .colab-df-quickchart-complete:disabled,\n",
              "  .colab-df-quickchart-complete:disabled:hover {\n",
              "    background-color: var(--disabled-bg-color);\n",
              "    fill: var(--disabled-fill-color);\n",
              "    box-shadow: none;\n",
              "  }\n",
              "\n",
              "  .colab-df-spinner {\n",
              "    border: 2px solid var(--fill-color);\n",
              "    border-color: transparent;\n",
              "    border-bottom-color: var(--fill-color);\n",
              "    animation:\n",
              "      spin 1s steps(1) infinite;\n",
              "  }\n",
              "\n",
              "  @keyframes spin {\n",
              "    0% {\n",
              "      border-color: transparent;\n",
              "      border-bottom-color: var(--fill-color);\n",
              "      border-left-color: var(--fill-color);\n",
              "    }\n",
              "    20% {\n",
              "      border-color: transparent;\n",
              "      border-left-color: var(--fill-color);\n",
              "      border-top-color: var(--fill-color);\n",
              "    }\n",
              "    30% {\n",
              "      border-color: transparent;\n",
              "      border-left-color: var(--fill-color);\n",
              "      border-top-color: var(--fill-color);\n",
              "      border-right-color: var(--fill-color);\n",
              "    }\n",
              "    40% {\n",
              "      border-color: transparent;\n",
              "      border-right-color: var(--fill-color);\n",
              "      border-top-color: var(--fill-color);\n",
              "    }\n",
              "    60% {\n",
              "      border-color: transparent;\n",
              "      border-right-color: var(--fill-color);\n",
              "    }\n",
              "    80% {\n",
              "      border-color: transparent;\n",
              "      border-right-color: var(--fill-color);\n",
              "      border-bottom-color: var(--fill-color);\n",
              "    }\n",
              "    90% {\n",
              "      border-color: transparent;\n",
              "      border-bottom-color: var(--fill-color);\n",
              "    }\n",
              "  }\n",
              "</style>\n",
              "\n",
              "  <script>\n",
              "    async function quickchart(key) {\n",
              "      const quickchartButtonEl =\n",
              "        document.querySelector('#' + key + ' button');\n",
              "      quickchartButtonEl.disabled = true;  // To prevent multiple clicks.\n",
              "      quickchartButtonEl.classList.add('colab-df-spinner');\n",
              "      try {\n",
              "        const charts = await google.colab.kernel.invokeFunction(\n",
              "            'suggestCharts', [key], {});\n",
              "      } catch (error) {\n",
              "        console.error('Error during call to suggestCharts:', error);\n",
              "      }\n",
              "      quickchartButtonEl.classList.remove('colab-df-spinner');\n",
              "      quickchartButtonEl.classList.add('colab-df-quickchart-complete');\n",
              "    }\n",
              "    (() => {\n",
              "      let quickchartButtonEl =\n",
              "        document.querySelector('#df-e6b92dc1-b420-4b8d-888d-cf2658211273 button');\n",
              "      quickchartButtonEl.style.display =\n",
              "        google.colab.kernel.accessAllowed ? 'block' : 'none';\n",
              "    })();\n",
              "  </script>\n",
              "</div>\n",
              "    </div>\n",
              "  </div>\n"
            ]
          },
          "metadata": {},
          "execution_count": 37
        }
      ]
    },
    {
      "cell_type": "code",
      "source": [
        "df = df.reset_index()"
      ],
      "metadata": {
        "id": "4naKiItWAdUL"
      },
      "execution_count": null,
      "outputs": []
    },
    {
      "cell_type": "code",
      "source": [
        "df.head()"
      ],
      "metadata": {
        "colab": {
          "base_uri": "https://localhost:8080/",
          "height": 206
        },
        "id": "Xcvj69BdAe7S",
        "outputId": "92d46a21-59bd-4e4b-bf65-9c88c921cb1b"
      },
      "execution_count": null,
      "outputs": [
        {
          "output_type": "execute_result",
          "data": {
            "text/plain": [
              "   index     id masterCategory               subCategory  articleType   usage  \\\n",
              "0  18326  55821        Apparel  Loungewear and Nightwear  Night suits  Casual   \n",
              "1   8997  14722        Apparel                   Topwear       Shirts  Casual   \n",
              "2  20113   6202        Apparel                   Topwear      Tshirts  Casual   \n",
              "3   3805  16704        Apparel                   Topwear      Tshirts  Casual   \n",
              "4  14144   5101        Apparel                   Topwear      Tshirts  Casual   \n",
              "\n",
              "     baseColour      image  \n",
              "0  Grey Melange  55821.jpg  \n",
              "1         Black  14722.jpg  \n",
              "2         Beige   6202.jpg  \n",
              "3     Navy Blue  16704.jpg  \n",
              "4         White   5101.jpg  "
            ],
            "text/html": [
              "\n",
              "  <div id=\"df-c5234b52-667a-4a08-b114-18e1cbadee40\" class=\"colab-df-container\">\n",
              "    <div>\n",
              "<style scoped>\n",
              "    .dataframe tbody tr th:only-of-type {\n",
              "        vertical-align: middle;\n",
              "    }\n",
              "\n",
              "    .dataframe tbody tr th {\n",
              "        vertical-align: top;\n",
              "    }\n",
              "\n",
              "    .dataframe thead th {\n",
              "        text-align: right;\n",
              "    }\n",
              "</style>\n",
              "<table border=\"1\" class=\"dataframe\">\n",
              "  <thead>\n",
              "    <tr style=\"text-align: right;\">\n",
              "      <th></th>\n",
              "      <th>index</th>\n",
              "      <th>id</th>\n",
              "      <th>masterCategory</th>\n",
              "      <th>subCategory</th>\n",
              "      <th>articleType</th>\n",
              "      <th>usage</th>\n",
              "      <th>baseColour</th>\n",
              "      <th>image</th>\n",
              "    </tr>\n",
              "  </thead>\n",
              "  <tbody>\n",
              "    <tr>\n",
              "      <th>0</th>\n",
              "      <td>18326</td>\n",
              "      <td>55821</td>\n",
              "      <td>Apparel</td>\n",
              "      <td>Loungewear and Nightwear</td>\n",
              "      <td>Night suits</td>\n",
              "      <td>Casual</td>\n",
              "      <td>Grey Melange</td>\n",
              "      <td>55821.jpg</td>\n",
              "    </tr>\n",
              "    <tr>\n",
              "      <th>1</th>\n",
              "      <td>8997</td>\n",
              "      <td>14722</td>\n",
              "      <td>Apparel</td>\n",
              "      <td>Topwear</td>\n",
              "      <td>Shirts</td>\n",
              "      <td>Casual</td>\n",
              "      <td>Black</td>\n",
              "      <td>14722.jpg</td>\n",
              "    </tr>\n",
              "    <tr>\n",
              "      <th>2</th>\n",
              "      <td>20113</td>\n",
              "      <td>6202</td>\n",
              "      <td>Apparel</td>\n",
              "      <td>Topwear</td>\n",
              "      <td>Tshirts</td>\n",
              "      <td>Casual</td>\n",
              "      <td>Beige</td>\n",
              "      <td>6202.jpg</td>\n",
              "    </tr>\n",
              "    <tr>\n",
              "      <th>3</th>\n",
              "      <td>3805</td>\n",
              "      <td>16704</td>\n",
              "      <td>Apparel</td>\n",
              "      <td>Topwear</td>\n",
              "      <td>Tshirts</td>\n",
              "      <td>Casual</td>\n",
              "      <td>Navy Blue</td>\n",
              "      <td>16704.jpg</td>\n",
              "    </tr>\n",
              "    <tr>\n",
              "      <th>4</th>\n",
              "      <td>14144</td>\n",
              "      <td>5101</td>\n",
              "      <td>Apparel</td>\n",
              "      <td>Topwear</td>\n",
              "      <td>Tshirts</td>\n",
              "      <td>Casual</td>\n",
              "      <td>White</td>\n",
              "      <td>5101.jpg</td>\n",
              "    </tr>\n",
              "  </tbody>\n",
              "</table>\n",
              "</div>\n",
              "    <div class=\"colab-df-buttons\">\n",
              "\n",
              "  <div class=\"colab-df-container\">\n",
              "    <button class=\"colab-df-convert\" onclick=\"convertToInteractive('df-c5234b52-667a-4a08-b114-18e1cbadee40')\"\n",
              "            title=\"Convert this dataframe to an interactive table.\"\n",
              "            style=\"display:none;\">\n",
              "\n",
              "  <svg xmlns=\"http://www.w3.org/2000/svg\" height=\"24px\" viewBox=\"0 -960 960 960\">\n",
              "    <path d=\"M120-120v-720h720v720H120Zm60-500h600v-160H180v160Zm220 220h160v-160H400v160Zm0 220h160v-160H400v160ZM180-400h160v-160H180v160Zm440 0h160v-160H620v160ZM180-180h160v-160H180v160Zm440 0h160v-160H620v160Z\"/>\n",
              "  </svg>\n",
              "    </button>\n",
              "\n",
              "  <style>\n",
              "    .colab-df-container {\n",
              "      display:flex;\n",
              "      gap: 12px;\n",
              "    }\n",
              "\n",
              "    .colab-df-convert {\n",
              "      background-color: #E8F0FE;\n",
              "      border: none;\n",
              "      border-radius: 50%;\n",
              "      cursor: pointer;\n",
              "      display: none;\n",
              "      fill: #1967D2;\n",
              "      height: 32px;\n",
              "      padding: 0 0 0 0;\n",
              "      width: 32px;\n",
              "    }\n",
              "\n",
              "    .colab-df-convert:hover {\n",
              "      background-color: #E2EBFA;\n",
              "      box-shadow: 0px 1px 2px rgba(60, 64, 67, 0.3), 0px 1px 3px 1px rgba(60, 64, 67, 0.15);\n",
              "      fill: #174EA6;\n",
              "    }\n",
              "\n",
              "    .colab-df-buttons div {\n",
              "      margin-bottom: 4px;\n",
              "    }\n",
              "\n",
              "    [theme=dark] .colab-df-convert {\n",
              "      background-color: #3B4455;\n",
              "      fill: #D2E3FC;\n",
              "    }\n",
              "\n",
              "    [theme=dark] .colab-df-convert:hover {\n",
              "      background-color: #434B5C;\n",
              "      box-shadow: 0px 1px 3px 1px rgba(0, 0, 0, 0.15);\n",
              "      filter: drop-shadow(0px 1px 2px rgba(0, 0, 0, 0.3));\n",
              "      fill: #FFFFFF;\n",
              "    }\n",
              "  </style>\n",
              "\n",
              "    <script>\n",
              "      const buttonEl =\n",
              "        document.querySelector('#df-c5234b52-667a-4a08-b114-18e1cbadee40 button.colab-df-convert');\n",
              "      buttonEl.style.display =\n",
              "        google.colab.kernel.accessAllowed ? 'block' : 'none';\n",
              "\n",
              "      async function convertToInteractive(key) {\n",
              "        const element = document.querySelector('#df-c5234b52-667a-4a08-b114-18e1cbadee40');\n",
              "        const dataTable =\n",
              "          await google.colab.kernel.invokeFunction('convertToInteractive',\n",
              "                                                    [key], {});\n",
              "        if (!dataTable) return;\n",
              "\n",
              "        const docLinkHtml = 'Like what you see? Visit the ' +\n",
              "          '<a target=\"_blank\" href=https://colab.research.google.com/notebooks/data_table.ipynb>data table notebook</a>'\n",
              "          + ' to learn more about interactive tables.';\n",
              "        element.innerHTML = '';\n",
              "        dataTable['output_type'] = 'display_data';\n",
              "        await google.colab.output.renderOutput(dataTable, element);\n",
              "        const docLink = document.createElement('div');\n",
              "        docLink.innerHTML = docLinkHtml;\n",
              "        element.appendChild(docLink);\n",
              "      }\n",
              "    </script>\n",
              "  </div>\n",
              "\n",
              "\n",
              "<div id=\"df-38ea9d42-528d-4a6f-ae23-ccd18672977f\">\n",
              "  <button class=\"colab-df-quickchart\" onclick=\"quickchart('df-38ea9d42-528d-4a6f-ae23-ccd18672977f')\"\n",
              "            title=\"Suggest charts\"\n",
              "            style=\"display:none;\">\n",
              "\n",
              "<svg xmlns=\"http://www.w3.org/2000/svg\" height=\"24px\"viewBox=\"0 0 24 24\"\n",
              "     width=\"24px\">\n",
              "    <g>\n",
              "        <path d=\"M19 3H5c-1.1 0-2 .9-2 2v14c0 1.1.9 2 2 2h14c1.1 0 2-.9 2-2V5c0-1.1-.9-2-2-2zM9 17H7v-7h2v7zm4 0h-2V7h2v10zm4 0h-2v-4h2v4z\"/>\n",
              "    </g>\n",
              "</svg>\n",
              "  </button>\n",
              "\n",
              "<style>\n",
              "  .colab-df-quickchart {\n",
              "      --bg-color: #E8F0FE;\n",
              "      --fill-color: #1967D2;\n",
              "      --hover-bg-color: #E2EBFA;\n",
              "      --hover-fill-color: #174EA6;\n",
              "      --disabled-fill-color: #AAA;\n",
              "      --disabled-bg-color: #DDD;\n",
              "  }\n",
              "\n",
              "  [theme=dark] .colab-df-quickchart {\n",
              "      --bg-color: #3B4455;\n",
              "      --fill-color: #D2E3FC;\n",
              "      --hover-bg-color: #434B5C;\n",
              "      --hover-fill-color: #FFFFFF;\n",
              "      --disabled-bg-color: #3B4455;\n",
              "      --disabled-fill-color: #666;\n",
              "  }\n",
              "\n",
              "  .colab-df-quickchart {\n",
              "    background-color: var(--bg-color);\n",
              "    border: none;\n",
              "    border-radius: 50%;\n",
              "    cursor: pointer;\n",
              "    display: none;\n",
              "    fill: var(--fill-color);\n",
              "    height: 32px;\n",
              "    padding: 0;\n",
              "    width: 32px;\n",
              "  }\n",
              "\n",
              "  .colab-df-quickchart:hover {\n",
              "    background-color: var(--hover-bg-color);\n",
              "    box-shadow: 0 1px 2px rgba(60, 64, 67, 0.3), 0 1px 3px 1px rgba(60, 64, 67, 0.15);\n",
              "    fill: var(--button-hover-fill-color);\n",
              "  }\n",
              "\n",
              "  .colab-df-quickchart-complete:disabled,\n",
              "  .colab-df-quickchart-complete:disabled:hover {\n",
              "    background-color: var(--disabled-bg-color);\n",
              "    fill: var(--disabled-fill-color);\n",
              "    box-shadow: none;\n",
              "  }\n",
              "\n",
              "  .colab-df-spinner {\n",
              "    border: 2px solid var(--fill-color);\n",
              "    border-color: transparent;\n",
              "    border-bottom-color: var(--fill-color);\n",
              "    animation:\n",
              "      spin 1s steps(1) infinite;\n",
              "  }\n",
              "\n",
              "  @keyframes spin {\n",
              "    0% {\n",
              "      border-color: transparent;\n",
              "      border-bottom-color: var(--fill-color);\n",
              "      border-left-color: var(--fill-color);\n",
              "    }\n",
              "    20% {\n",
              "      border-color: transparent;\n",
              "      border-left-color: var(--fill-color);\n",
              "      border-top-color: var(--fill-color);\n",
              "    }\n",
              "    30% {\n",
              "      border-color: transparent;\n",
              "      border-left-color: var(--fill-color);\n",
              "      border-top-color: var(--fill-color);\n",
              "      border-right-color: var(--fill-color);\n",
              "    }\n",
              "    40% {\n",
              "      border-color: transparent;\n",
              "      border-right-color: var(--fill-color);\n",
              "      border-top-color: var(--fill-color);\n",
              "    }\n",
              "    60% {\n",
              "      border-color: transparent;\n",
              "      border-right-color: var(--fill-color);\n",
              "    }\n",
              "    80% {\n",
              "      border-color: transparent;\n",
              "      border-right-color: var(--fill-color);\n",
              "      border-bottom-color: var(--fill-color);\n",
              "    }\n",
              "    90% {\n",
              "      border-color: transparent;\n",
              "      border-bottom-color: var(--fill-color);\n",
              "    }\n",
              "  }\n",
              "</style>\n",
              "\n",
              "  <script>\n",
              "    async function quickchart(key) {\n",
              "      const quickchartButtonEl =\n",
              "        document.querySelector('#' + key + ' button');\n",
              "      quickchartButtonEl.disabled = true;  // To prevent multiple clicks.\n",
              "      quickchartButtonEl.classList.add('colab-df-spinner');\n",
              "      try {\n",
              "        const charts = await google.colab.kernel.invokeFunction(\n",
              "            'suggestCharts', [key], {});\n",
              "      } catch (error) {\n",
              "        console.error('Error during call to suggestCharts:', error);\n",
              "      }\n",
              "      quickchartButtonEl.classList.remove('colab-df-spinner');\n",
              "      quickchartButtonEl.classList.add('colab-df-quickchart-complete');\n",
              "    }\n",
              "    (() => {\n",
              "      let quickchartButtonEl =\n",
              "        document.querySelector('#df-38ea9d42-528d-4a6f-ae23-ccd18672977f button');\n",
              "      quickchartButtonEl.style.display =\n",
              "        google.colab.kernel.accessAllowed ? 'block' : 'none';\n",
              "    })();\n",
              "  </script>\n",
              "</div>\n",
              "    </div>\n",
              "  </div>\n"
            ]
          },
          "metadata": {},
          "execution_count": 39
        }
      ]
    },
    {
      "cell_type": "code",
      "source": [
        "import matplotlib.pyplot as plt\n",
        "import cv2\n",
        "\n",
        "def plot_figures(figures, nrows=1, ncols=1, figsize=(8, 8)):\n",
        "    \"\"\"Plot a dictionary of figures.\n",
        "\n",
        "    Parameters\n",
        "    ----------\n",
        "    figures : <title, figure> dictionary\n",
        "    ncols : number of columns of subplots wanted in the display\n",
        "    nrows : number of rows of subplots wanted in the figure\n",
        "    \"\"\"\n",
        "\n",
        "    fig, axeslist = plt.subplots(ncols=ncols, nrows=nrows, figsize=figsize)\n",
        "    for ind, title in enumerate(figures):\n",
        "        img, subCategory, articleType = figures[title]\n",
        "        axeslist.ravel()[ind].imshow(cv2.cvtColor(img, cv2.COLOR_BGR2RGB))\n",
        "        axeslist.ravel()[ind].set_title(f\"SubCategory: {subCategory}\\nArticleType: {articleType}\")\n",
        "        axeslist.ravel()[ind].set_axis_off()\n",
        "    plt.tight_layout()\n",
        "\n",
        "def img_path(img):\n",
        "    print(DATASET_PATH + \"/images/\" + img)\n",
        "    return DATASET_PATH + \"/images/\" + img\n",
        "\n",
        "def load_image(img):\n",
        "    img_file = img_path(img)\n",
        "\n",
        "    if os.path.exists(img_file):\n",
        "        return cv2.imread(img_file)\n",
        "    else:\n",
        "        # Return a placeholder or None if the image doesn't exist\n",
        "        return None\n"
      ],
      "metadata": {
        "id": "RPsr1yKCApE8"
      },
      "execution_count": null,
      "outputs": []
    },
    {
      "cell_type": "code",
      "source": [
        "figures = {}\n",
        "sampled_rows = df.sample(6)\n",
        "# sampled_rows = df[df['subCategory'] == 'Bottomwear'].sample(6)\n",
        "\n",
        "for i, row in sampled_rows.iterrows():\n",
        "    img = load_image(row.image)\n",
        "\n",
        "    subCategory = row.subCategory\n",
        "    # print(subCategory)\n",
        "    articleType = row.articleType\n",
        "\n",
        "    figures[f'im{str(i)}'] = (img, subCategory, articleType)\n",
        "\n",
        "plot_figures(figures, 2, 3)"
      ],
      "metadata": {
        "colab": {
          "base_uri": "https://localhost:8080/",
          "height": 896
        },
        "id": "AtYLaoApA9jh",
        "outputId": "d8503d11-a034-426a-c600-f92f85004a79"
      },
      "execution_count": null,
      "outputs": [
        {
          "output_type": "stream",
          "name": "stdout",
          "text": [
            "/content/myntradataset/images/53211.jpg\n",
            "/content/myntradataset/images/34350.jpg\n",
            "/content/myntradataset/images/2297.jpg\n",
            "/content/myntradataset/images/2556.jpg\n",
            "/content/myntradataset/images/19981.jpg\n",
            "/content/myntradataset/images/27562.jpg\n"
          ]
        },
        {
          "output_type": "display_data",
          "data": {
            "text/plain": [
              "<Figure size 800x800 with 6 Axes>"
            ],
            "image/png": "[encoded data removed]"
          },
          "metadata": {}
        }
      ]
    },
    {
      "cell_type": "markdown",
      "source": [
        "# Visualize The Column"
      ],
      "metadata": {
        "id": "CkOQVawPDDAR"
      }
    },
    {
      "cell_type": "code",
      "source": [
        "# Set up subplots\n",
        "fig, axes = plt.subplots(1, 3, figsize=(15, 5))\n",
        "\n",
        "# Plot 'masterCategory'\n",
        "df['masterCategory'].value_counts().plot.barh(ax=axes[0])\n",
        "axes[0].set_title('Master Category')\n",
        "\n",
        "# Plot 'subCategory'\n",
        "df['subCategory'].value_counts().plot.barh(ax=axes[1])\n",
        "axes[1].set_title('Sub Category')\n",
        "\n",
        "# Plot 'articleType'\n",
        "df['articleType'].value_counts().plot.barh(ax=axes[2])\n",
        "axes[2].set_title('Article Type')\n",
        "\n",
        "# Plot 'usage'\n",
        "# df['usage'].value_counts().plot.barh(ax=axes[2])\n",
        "# axes[2].set_title('usage')\n",
        "\n",
        "# Adjust layout\n",
        "plt.tight_layout()\n",
        "plt.show()"
      ],
      "metadata": {
        "colab": {
          "base_uri": "https://localhost:8080/",
          "height": 507
        },
        "id": "h0TGcluFDFk_",
        "outputId": "2c3a46b4-c2d6-4b8b-e138-d34e79ee9982"
      },
      "execution_count": null,
      "outputs": [
        {
          "output_type": "display_data",
          "data": {
            "text/plain": [
              "<Figure size 1500x500 with 3 Axes>"
            ],
            "image/png": "[encoded data removed]"
          },
          "metadata": {}
        }
      ]
    },
    {
      "cell_type": "code",
      "source": [
        "# Set up subplots\n",
        "fig, axes = plt.subplots(1, 2, figsize=(15, 5))\n",
        "\n",
        "# Plot 'usage'\n",
        "df['usage'].value_counts().plot.barh(ax=axes[0])\n",
        "axes[0].set_title('usage')\n",
        "\n",
        "# Plot 'baseColour'\n",
        "df['baseColour'].value_counts().plot.barh(ax=axes[1])\n",
        "axes[1].set_title('baseColour')\n",
        "\n",
        "# Adjust layout\n",
        "plt.tight_layout()\n",
        "plt.show()"
      ],
      "metadata": {
        "colab": {
          "base_uri": "https://localhost:8080/",
          "height": 507
        },
        "id": "fy5CJs7cDHvw",
        "outputId": "42202a0c-3481-4665-fd50-58dd1941e883"
      },
      "execution_count": null,
      "outputs": [
        {
          "output_type": "display_data",
          "data": {
            "text/plain": [
              "<Figure size 1500x500 with 2 Axes>"
            ],
            "image/png": "[encoded data removed]"
          },
          "metadata": {}
        }
      ]
    },
    {
      "cell_type": "markdown",
      "source": [
        "# Filter the image berdasarkan file csv"
      ],
      "metadata": {
        "id": "1ubc1ZVKHEle"
      }
    },
    {
      "cell_type": "code",
      "source": [
        "import shutil\n",
        "\n",
        "# Load dataset from fix_dataset2.csv\n",
        "df = pd.read_csv('fix_dataset2.csv')\n",
        "\n"
      ],
      "metadata": {
        "id": "pVYaLlF-H8tA"
      },
      "execution_count": null,
      "outputs": []
    },
    {
      "cell_type": "code",
      "source": [
        "df"
      ],
      "metadata": {
        "colab": {
          "base_uri": "https://localhost:8080/",
          "height": 423
        },
        "id": "xonTGeyoIAXa",
        "outputId": "538e7745-2ccf-4493-92c9-9e0a0e265cfe"
      },
      "execution_count": null,
      "outputs": [
        {
          "output_type": "execute_result",
          "data": {
            "text/plain": [
              "      index     id masterCategory subCategory articleType   usage baseColour  \\\n",
              "0     37590   5798        Apparel     Topwear     Tshirts  Casual      White   \n",
              "1     17763  44309        Apparel  Bottomwear      Shorts  Casual      Brown   \n",
              "2     24098  12503        Apparel     Topwear     Tshirts  Casual      Black   \n",
              "3     14615  48081        Apparel     Topwear     Tshirts  Casual        Red   \n",
              "4     33737  22406        Apparel     Topwear      Shirts  Formal     Purple   \n",
              "...     ...    ...            ...         ...         ...     ...        ...   \n",
              "8000  28095  57084        Apparel  Bottomwear      Skirts  Casual       Blue   \n",
              "8001  34702   8474        Apparel     Topwear      Shirts  Casual      Black   \n",
              "8002   9191  23162        Apparel     Topwear     Tshirts  Casual  Navy Blue   \n",
              "8003  11588   6116        Apparel     Topwear     Tshirts  Casual     Purple   \n",
              "8004  33231  19834        Apparel     Topwear      Shirts  Casual       Blue   \n",
              "\n",
              "          image  \n",
              "0      5798.jpg  \n",
              "1     44309.jpg  \n",
              "2     12503.jpg  \n",
              "3     48081.jpg  \n",
              "4     22406.jpg  \n",
              "...         ...  \n",
              "8000  57084.jpg  \n",
              "8001   8474.jpg  \n",
              "8002  23162.jpg  \n",
              "8003   6116.jpg  \n",
              "8004  19834.jpg  \n",
              "\n",
              "[8005 rows x 8 columns]"
            ],
            "text/html": [
              "\n",
              "  <div id=\"df-dbae1913-e0e4-4312-9d39-51407e897a24\" class=\"colab-df-container\">\n",
              "    <div>\n",
              "<style scoped>\n",
              "    .dataframe tbody tr th:only-of-type {\n",
              "        vertical-align: middle;\n",
              "    }\n",
              "\n",
              "    .dataframe tbody tr th {\n",
              "        vertical-align: top;\n",
              "    }\n",
              "\n",
              "    .dataframe thead th {\n",
              "        text-align: right;\n",
              "    }\n",
              "</style>\n",
              "<table border=\"1\" class=\"dataframe\">\n",
              "  <thead>\n",
              "    <tr style=\"text-align: right;\">\n",
              "      <th></th>\n",
              "      <th>index</th>\n",
              "      <th>id</th>\n",
              "      <th>masterCategory</th>\n",
              "      <th>subCategory</th>\n",
              "      <th>articleType</th>\n",
              "      <th>usage</th>\n",
              "      <th>baseColour</th>\n",
              "      <th>image</th>\n",
              "    </tr>\n",
              "  </thead>\n",
              "  <tbody>\n",
              "    <tr>\n",
              "      <th>0</th>\n",
              "      <td>37590</td>\n",
              "      <td>5798</td>\n",
              "      <td>Apparel</td>\n",
              "      <td>Topwear</td>\n",
              "      <td>Tshirts</td>\n",
              "      <td>Casual</td>\n",
              "      <td>White</td>\n",
              "      <td>5798.jpg</td>\n",
              "    </tr>\n",
              "    <tr>\n",
              "      <th>1</th>\n",
              "      <td>17763</td>\n",
              "      <td>44309</td>\n",
              "      <td>Apparel</td>\n",
              "      <td>Bottomwear</td>\n",
              "      <td>Shorts</td>\n",
              "      <td>Casual</td>\n",
              "      <td>Brown</td>\n",
              "      <td>44309.jpg</td>\n",
              "    </tr>\n",
              "    <tr>\n",
              "      <th>2</th>\n",
              "      <td>24098</td>\n",
              "      <td>12503</td>\n",
              "      <td>Apparel</td>\n",
              "      <td>Topwear</td>\n",
              "      <td>Tshirts</td>\n",
              "      <td>Casual</td>\n",
              "      <td>Black</td>\n",
              "      <td>12503.jpg</td>\n",
              "    </tr>\n",
              "    <tr>\n",
              "      <th>3</th>\n",
              "      <td>14615</td>\n",
              "      <td>48081</td>\n",
              "      <td>Apparel</td>\n",
              "      <td>Topwear</td>\n",
              "      <td>Tshirts</td>\n",
              "      <td>Casual</td>\n",
              "      <td>Red</td>\n",
              "      <td>48081.jpg</td>\n",
              "    </tr>\n",
              "    <tr>\n",
              "      <th>4</th>\n",
              "      <td>33737</td>\n",
              "      <td>22406</td>\n",
              "      <td>Apparel</td>\n",
              "      <td>Topwear</td>\n",
              "      <td>Shirts</td>\n",
              "      <td>Formal</td>\n",
              "      <td>Purple</td>\n",
              "      <td>22406.jpg</td>\n",
              "    </tr>\n",
              "    <tr>\n",
              "      <th>...</th>\n",
              "      <td>...</td>\n",
              "      <td>...</td>\n",
              "      <td>...</td>\n",
              "      <td>...</td>\n",
              "      <td>...</td>\n",
              "      <td>...</td>\n",
              "      <td>...</td>\n",
              "      <td>...</td>\n",
              "    </tr>\n",
              "    <tr>\n",
              "      <th>8000</th>\n",
              "      <td>28095</td>\n",
              "      <td>57084</td>\n",
              "      <td>Apparel</td>\n",
              "      <td>Bottomwear</td>\n",
              "      <td>Skirts</td>\n",
              "      <td>Casual</td>\n",
              "      <td>Blue</td>\n",
              "      <td>57084.jpg</td>\n",
              "    </tr>\n",
              "    <tr>\n",
              "      <th>8001</th>\n",
              "      <td>34702</td>\n",
              "      <td>8474</td>\n",
              "      <td>Apparel</td>\n",
              "      <td>Topwear</td>\n",
              "      <td>Shirts</td>\n",
              "      <td>Casual</td>\n",
              "      <td>Black</td>\n",
              "      <td>8474.jpg</td>\n",
              "    </tr>\n",
              "    <tr>\n",
              "      <th>8002</th>\n",
              "      <td>9191</td>\n",
              "      <td>23162</td>\n",
              "      <td>Apparel</td>\n",
              "      <td>Topwear</td>\n",
              "      <td>Tshirts</td>\n",
              "      <td>Casual</td>\n",
              "      <td>Navy Blue</td>\n",
              "      <td>23162.jpg</td>\n",
              "    </tr>\n",
              "    <tr>\n",
              "      <th>8003</th>\n",
              "      <td>11588</td>\n",
              "      <td>6116</td>\n",
              "      <td>Apparel</td>\n",
              "      <td>Topwear</td>\n",
              "      <td>Tshirts</td>\n",
              "      <td>Casual</td>\n",
              "      <td>Purple</td>\n",
              "      <td>6116.jpg</td>\n",
              "    </tr>\n",
              "    <tr>\n",
              "      <th>8004</th>\n",
              "      <td>33231</td>\n",
              "      <td>19834</td>\n",
              "      <td>Apparel</td>\n",
              "      <td>Topwear</td>\n",
              "      <td>Shirts</td>\n",
              "      <td>Casual</td>\n",
              "      <td>Blue</td>\n",
              "      <td>19834.jpg</td>\n",
              "    </tr>\n",
              "  </tbody>\n",
              "</table>\n",
              "<p>8005 rows × 8 columns</p>\n",
              "</div>\n",
              "    <div class=\"colab-df-buttons\">\n",
              "\n",
              "  <div class=\"colab-df-container\">\n",
              "    <button class=\"colab-df-convert\" onclick=\"convertToInteractive('df-dbae1913-e0e4-4312-9d39-51407e897a24')\"\n",
              "            title=\"Convert this dataframe to an interactive table.\"\n",
              "            style=\"display:none;\">\n",
              "\n",
              "  <svg xmlns=\"http://www.w3.org/2000/svg\" height=\"24px\" viewBox=\"0 -960 960 960\">\n",
              "    <path d=\"M120-120v-720h720v720H120Zm60-500h600v-160H180v160Zm220 220h160v-160H400v160Zm0 220h160v-160H400v160ZM180-400h160v-160H180v160Zm440 0h160v-160H620v160ZM180-180h160v-160H180v160Zm440 0h160v-160H620v160Z\"/>\n",
              "  </svg>\n",
              "    </button>\n",
              "\n",
              "  <style>\n",
              "    .colab-df-container {\n",
              "      display:flex;\n",
              "      gap: 12px;\n",
              "    }\n",
              "\n",
              "    .colab-df-convert {\n",
              "      background-color: #E8F0FE;\n",
              "      border: none;\n",
              "      border-radius: 50%;\n",
              "      cursor: pointer;\n",
              "      display: none;\n",
              "      fill: #1967D2;\n",
              "      height: 32px;\n",
              "      padding: 0 0 0 0;\n",
              "      width: 32px;\n",
              "    }\n",
              "\n",
              "    .colab-df-convert:hover {\n",
              "      background-color: #E2EBFA;\n",
              "      box-shadow: 0px 1px 2px rgba(60, 64, 67, 0.3), 0px 1px 3px 1px rgba(60, 64, 67, 0.15);\n",
              "      fill: #174EA6;\n",
              "    }\n",
              "\n",
              "    .colab-df-buttons div {\n",
              "      margin-bottom: 4px;\n",
              "    }\n",
              "\n",
              "    [theme=dark] .colab-df-convert {\n",
              "      background-color: #3B4455;\n",
              "      fill: #D2E3FC;\n",
              "    }\n",
              "\n",
              "    [theme=dark] .colab-df-convert:hover {\n",
              "      background-color: #434B5C;\n",
              "      box-shadow: 0px 1px 3px 1px rgba(0, 0, 0, 0.15);\n",
              "      filter: drop-shadow(0px 1px 2px rgba(0, 0, 0, 0.3));\n",
              "      fill: #FFFFFF;\n",
              "    }\n",
              "  </style>\n",
              "\n",
              "    <script>\n",
              "      const buttonEl =\n",
              "        document.querySelector('#df-dbae1913-e0e4-4312-9d39-51407e897a24 button.colab-df-convert');\n",
              "      buttonEl.style.display =\n",
              "        google.colab.kernel.accessAllowed ? 'block' : 'none';\n",
              "\n",
              "      async function convertToInteractive(key) {\n",
              "        const element = document.querySelector('#df-dbae1913-e0e4-4312-9d39-51407e897a24');\n",
              "        const dataTable =\n",
              "          await google.colab.kernel.invokeFunction('convertToInteractive',\n",
              "                                                    [key], {});\n",
              "        if (!dataTable) return;\n",
              "\n",
              "        const docLinkHtml = 'Like what you see? Visit the ' +\n",
              "          '<a target=\"_blank\" href=https://colab.research.google.com/notebooks/data_table.ipynb>data table notebook</a>'\n",
              "          + ' to learn more about interactive tables.';\n",
              "        element.innerHTML = '';\n",
              "        dataTable['output_type'] = 'display_data';\n",
              "        await google.colab.output.renderOutput(dataTable, element);\n",
              "        const docLink = document.createElement('div');\n",
              "        docLink.innerHTML = docLinkHtml;\n",
              "        element.appendChild(docLink);\n",
              "      }\n",
              "    </script>\n",
              "  </div>\n",
              "\n",
              "\n",
              "<div id=\"df-291d1d65-3883-4199-b6f1-5a4c2fd10128\">\n",
              "  <button class=\"colab-df-quickchart\" onclick=\"quickchart('df-291d1d65-3883-4199-b6f1-5a4c2fd10128')\"\n",
              "            title=\"Suggest charts\"\n",
              "            style=\"display:none;\">\n",
              "\n",
              "<svg xmlns=\"http://www.w3.org/2000/svg\" height=\"24px\"viewBox=\"0 0 24 24\"\n",
              "     width=\"24px\">\n",
              "    <g>\n",
              "        <path d=\"M19 3H5c-1.1 0-2 .9-2 2v14c0 1.1.9 2 2 2h14c1.1 0 2-.9 2-2V5c0-1.1-.9-2-2-2zM9 17H7v-7h2v7zm4 0h-2V7h2v10zm4 0h-2v-4h2v4z\"/>\n",
              "    </g>\n",
              "</svg>\n",
              "  </button>\n",
              "\n",
              "<style>\n",
              "  .colab-df-quickchart {\n",
              "      --bg-color: #E8F0FE;\n",
              "      --fill-color: #1967D2;\n",
              "      --hover-bg-color: #E2EBFA;\n",
              "      --hover-fill-color: #174EA6;\n",
              "      --disabled-fill-color: #AAA;\n",
              "      --disabled-bg-color: #DDD;\n",
              "  }\n",
              "\n",
              "  [theme=dark] .colab-df-quickchart {\n",
              "      --bg-color: #3B4455;\n",
              "      --fill-color: #D2E3FC;\n",
              "      --hover-bg-color: #434B5C;\n",
              "      --hover-fill-color: #FFFFFF;\n",
              "      --disabled-bg-color: #3B4455;\n",
              "      --disabled-fill-color: #666;\n",
              "  }\n",
              "\n",
              "  .colab-df-quickchart {\n",
              "    background-color: var(--bg-color);\n",
              "    border: none;\n",
              "    border-radius: 50%;\n",
              "    cursor: pointer;\n",
              "    display: none;\n",
              "    fill: var(--fill-color);\n",
              "    height: 32px;\n",
              "    padding: 0;\n",
              "    width: 32px;\n",
              "  }\n",
              "\n",
              "  .colab-df-quickchart:hover {\n",
              "    background-color: var(--hover-bg-color);\n",
              "    box-shadow: 0 1px 2px rgba(60, 64, 67, 0.3), 0 1px 3px 1px rgba(60, 64, 67, 0.15);\n",
              "    fill: var(--button-hover-fill-color);\n",
              "  }\n",
              "\n",
              "  .colab-df-quickchart-complete:disabled,\n",
              "  .colab-df-quickchart-complete:disabled:hover {\n",
              "    background-color: var(--disabled-bg-color);\n",
              "    fill: var(--disabled-fill-color);\n",
              "    box-shadow: none;\n",
              "  }\n",
              "\n",
              "  .colab-df-spinner {\n",
              "    border: 2px solid var(--fill-color);\n",
              "    border-color: transparent;\n",
              "    border-bottom-color: var(--fill-color);\n",
              "    animation:\n",
              "      spin 1s steps(1) infinite;\n",
              "  }\n",
              "\n",
              "  @keyframes spin {\n",
              "    0% {\n",
              "      border-color: transparent;\n",
              "      border-bottom-color: var(--fill-color);\n",
              "      border-left-color: var(--fill-color);\n",
              "    }\n",
              "    20% {\n",
              "      border-color: transparent;\n",
              "      border-left-color: var(--fill-color);\n",
              "      border-top-color: var(--fill-color);\n",
              "    }\n",
              "    30% {\n",
              "      border-color: transparent;\n",
              "      border-left-color: var(--fill-color);\n",
              "      border-top-color: var(--fill-color);\n",
              "      border-right-color: var(--fill-color);\n",
              "    }\n",
              "    40% {\n",
              "      border-color: transparent;\n",
              "      border-right-color: var(--fill-color);\n",
              "      border-top-color: var(--fill-color);\n",
              "    }\n",
              "    60% {\n",
              "      border-color: transparent;\n",
              "      border-right-color: var(--fill-color);\n",
              "    }\n",
              "    80% {\n",
              "      border-color: transparent;\n",
              "      border-right-color: var(--fill-color);\n",
              "      border-bottom-color: var(--fill-color);\n",
              "    }\n",
              "    90% {\n",
              "      border-color: transparent;\n",
              "      border-bottom-color: var(--fill-color);\n",
              "    }\n",
              "  }\n",
              "</style>\n",
              "\n",
              "  <script>\n",
              "    async function quickchart(key) {\n",
              "      const quickchartButtonEl =\n",
              "        document.querySelector('#' + key + ' button');\n",
              "      quickchartButtonEl.disabled = true;  // To prevent multiple clicks.\n",
              "      quickchartButtonEl.classList.add('colab-df-spinner');\n",
              "      try {\n",
              "        const charts = await google.colab.kernel.invokeFunction(\n",
              "            'suggestCharts', [key], {});\n",
              "      } catch (error) {\n",
              "        console.error('Error during call to suggestCharts:', error);\n",
              "      }\n",
              "      quickchartButtonEl.classList.remove('colab-df-spinner');\n",
              "      quickchartButtonEl.classList.add('colab-df-quickchart-complete');\n",
              "    }\n",
              "    (() => {\n",
              "      let quickchartButtonEl =\n",
              "        document.querySelector('#df-291d1d65-3883-4199-b6f1-5a4c2fd10128 button');\n",
              "      quickchartButtonEl.style.display =\n",
              "        google.colab.kernel.accessAllowed ? 'block' : 'none';\n",
              "    })();\n",
              "  </script>\n",
              "</div>\n",
              "    </div>\n",
              "  </div>\n"
            ]
          },
          "metadata": {},
          "execution_count": 47
        }
      ]
    },
    {
      "cell_type": "code",
      "source": [
        "# Create the 'filter_images' folder if it doesn't exist\n",
        "filter_folder = 'filter_images'\n",
        "if not os.path.exists(filter_folder):\n",
        "    os.makedirs(filter_folder)\n",
        "\n",
        "# Iterate through rows and move images to 'filter_images' folder\n",
        "for index, row in df.iterrows():\n",
        "    image_name = row['image']\n",
        "    source_path = os.path.join(DATASET_PATH + \"/images/\", image_name)\n",
        "    destination_path = os.path.join(filter_folder, image_name)\n",
        "\n",
        "    # Check if the image file exists before moving\n",
        "    if os.path.exists(source_path):\n",
        "        shutil.move(source_path, destination_path)\n",
        "\n",
        "print(f\"Filtered images have been moved to the '{filter_folder}' folder.\")\n",
        "\n",
        "# DATASET_PATH + \"/images/\" + img"
      ],
      "metadata": {
        "colab": {
          "base_uri": "https://localhost:8080/"
        },
        "id": "bDq9zUczIFZK",
        "outputId": "f94b3b10-df6d-4a09-aeed-351403d64f17"
      },
      "execution_count": null,
      "outputs": [
        {
          "output_type": "stream",
          "name": "stdout",
          "text": [
            "Filtered images have been moved to the 'filter_images' folder.\n"
          ]
        }
      ]
    },
    {
      "cell_type": "code",
      "source": [
        "# Specify the path to the 'filter_images' folder\n",
        "filter_folder = 'filter_images'\n",
        "\n",
        "# List the contents of the 'filter_images' folder\n",
        "filtered_images = os.listdir(filter_folder)\n",
        "\n",
        "# Get the number of filtered images\n",
        "num_filtered_images = len(filtered_images)\n",
        "\n",
        "# Print the number of filtered images\n",
        "print(f\"Number of Filtered Images: {num_filtered_images}\")"
      ],
      "metadata": {
        "colab": {
          "base_uri": "https://localhost:8080/"
        },
        "id": "c7xE5Fa-Idh0",
        "outputId": "0f2940e4-1e90-4a08-da10-81ebcc857ce5"
      },
      "execution_count": null,
      "outputs": [
        {
          "output_type": "stream",
          "name": "stdout",
          "text": [
            "Number of Filtered Images: 8003\n"
          ]
        }
      ]
    },
    {
      "cell_type": "code",
      "source": [
        "len(df)"
      ],
      "metadata": {
        "colab": {
          "base_uri": "https://localhost:8080/"
        },
        "id": "KY6Uv6LTIvJg",
        "outputId": "4feb4b8a-0c9b-496d-850e-648d0e1e750d"
      },
      "execution_count": null,
      "outputs": [
        {
          "output_type": "execute_result",
          "data": {
            "text/plain": [
              "8005"
            ]
          },
          "metadata": {},
          "execution_count": 53
        }
      ]
    },
    {
      "cell_type": "code",
      "source": [
        "df.isnull().sum()"
      ],
      "metadata": {
        "colab": {
          "base_uri": "https://localhost:8080/"
        },
        "id": "F_FfiJwDIy6d",
        "outputId": "5e9dbce4-350b-450f-957e-73785d1162a6"
      },
      "execution_count": null,
      "outputs": [
        {
          "output_type": "execute_result",
          "data": {
            "text/plain": [
              "index             0\n",
              "id                0\n",
              "masterCategory    0\n",
              "subCategory       0\n",
              "articleType       0\n",
              "usage             0\n",
              "baseColour        0\n",
              "image             0\n",
              "dtype: int64"
            ]
          },
          "metadata": {},
          "execution_count": 54
        }
      ]
    },
    {
      "cell_type": "code",
      "source": [
        "import os\n",
        "\n",
        "# Specify the path to the 'filter_images' folder\n",
        "filter_folder = 'filter_images'\n",
        "\n",
        "# List the contents of the 'filter_images' folder\n",
        "filtered_images = os.listdir(filter_folder)\n",
        "\n",
        "# Get the unique image names from the DataFrame\n",
        "unique_image_names_df = df['image'].unique()\n",
        "\n",
        "# Identify missing or extra images\n",
        "missing_images = set(unique_image_names_df) - set(filtered_images)\n",
        "extra_images = set(filtered_images) - set(unique_image_names_df)\n",
        "\n",
        "# Print the results\n",
        "print(f\"Number of Filtered Images: {len(filtered_images)}\")\n",
        "print(f\"Length of DataFrame: {len(df)}\")\n",
        "print(f\"Missing Images: {len(missing_images)}\")\n",
        "print(f\"Extra Images: {len(extra_images)}\")\n"
      ],
      "metadata": {
        "colab": {
          "base_uri": "https://localhost:8080/"
        },
        "id": "mnqTu-MLJFQF",
        "outputId": "d46bde93-0fb6-490b-9422-e5a1453149fe"
      },
      "execution_count": null,
      "outputs": [
        {
          "output_type": "stream",
          "name": "stdout",
          "text": [
            "Number of Filtered Images: 8003\n",
            "Length of DataFrame: 8005\n",
            "Missing Images: 2\n",
            "Extra Images: 0\n"
          ]
        }
      ]
    },
    {
      "cell_type": "code",
      "source": [
        "# Identify missing images\n",
        "missing_images_set = set(unique_image_names_df) - set(filtered_images)\n",
        "\n",
        "# Remove rows with missing images from the DataFrame\n",
        "df_filtered = df[~df['image'].isin(missing_images_set)]\n",
        "\n",
        "# Display the updated DataFrame\n",
        "print(\"Updated DataFrame:\")\n",
        "print(df_filtered.head())\n",
        "\n",
        "# Print the number of rows in the updated DataFrame\n",
        "print(f\"Number of Rows in Updated DataFrame: {len(df_filtered)}\")\n"
      ],
      "metadata": {
        "colab": {
          "base_uri": "https://localhost:8080/"
        },
        "id": "PJmKOpB0JRqB",
        "outputId": "ed523a65-1561-4558-c7f0-ad414e1b94fd"
      },
      "execution_count": null,
      "outputs": [
        {
          "output_type": "stream",
          "name": "stdout",
          "text": [
            "Updated DataFrame:\n",
            "   index     id masterCategory subCategory articleType   usage baseColour  \\\n",
            "0  37590   5798        Apparel     Topwear     Tshirts  Casual      White   \n",
            "1  17763  44309        Apparel  Bottomwear      Shorts  Casual      Brown   \n",
            "2  24098  12503        Apparel     Topwear     Tshirts  Casual      Black   \n",
            "3  14615  48081        Apparel     Topwear     Tshirts  Casual        Red   \n",
            "4  33737  22406        Apparel     Topwear      Shirts  Formal     Purple   \n",
            "\n",
            "       image  \n",
            "0   5798.jpg  \n",
            "1  44309.jpg  \n",
            "2  12503.jpg  \n",
            "3  48081.jpg  \n",
            "4  22406.jpg  \n",
            "Number of Rows in Updated DataFrame: 8003\n"
          ]
        }
      ]
    },
    {
      "cell_type": "code",
      "source": [
        "df = df_filtered"
      ],
      "metadata": {
        "id": "vz5EzBDxJUIe"
      },
      "execution_count": null,
      "outputs": []
    },
    {
      "cell_type": "code",
      "source": [
        "import os\n",
        "\n",
        "# Specify the path to the 'filter_images' folder\n",
        "filter_folder = 'filter_images'\n",
        "\n",
        "# List the contents of the 'filter_images' folder\n",
        "filtered_images = os.listdir(filter_folder)\n",
        "\n",
        "# Get the unique image names from the DataFrame\n",
        "unique_image_names_df = df['image'].unique()\n",
        "\n",
        "# Identify missing or extra images\n",
        "missing_images = set(unique_image_names_df) - set(filtered_images)\n",
        "extra_images = set(filtered_images) - set(unique_image_names_df)\n",
        "\n",
        "# Print the results\n",
        "print(f\"Number of Filtered Images: {len(filtered_images)}\")\n",
        "print(f\"Length of DataFrame: {len(df)}\")\n",
        "print(f\"Missing Images: {len(missing_images)}\")\n",
        "print(f\"Extra Images: {len(extra_images)}\")\n"
      ],
      "metadata": {
        "colab": {
          "base_uri": "https://localhost:8080/"
        },
        "id": "AYnOqD_xJZHX",
        "outputId": "80df9c57-97b1-4ea6-d4ab-16cc7466cb62"
      },
      "execution_count": null,
      "outputs": [
        {
          "output_type": "stream",
          "name": "stdout",
          "text": [
            "Number of Filtered Images: 8003\n",
            "Length of DataFrame: 8003\n",
            "Missing Images: 0\n",
            "Extra Images: 0\n"
          ]
        }
      ]
    },
    {
      "cell_type": "markdown",
      "source": [
        "# Save to CSV File"
      ],
      "metadata": {
        "id": "lHVOfjxRDxuH"
      }
    },
    {
      "cell_type": "code",
      "source": [
        "# from google.colab import drive\n",
        "\n",
        "# # Mount Google Drive\n",
        "# drive.mount('/content/drive')\n",
        "\n",
        "# # Simpan DataFrame ke Google Drive\n",
        "# nama_file = \"/content/drive/My Drive/fix_dataset2.csv\"\n",
        "# df.to_csv(nama_file, index=False)"
      ],
      "metadata": {
        "colab": {
          "base_uri": "https://localhost:8080/"
        },
        "id": "JZvJNMOHDzb0",
        "outputId": "7d5d6215-0ab2-4de8-e995-33f13514b8db"
      },
      "execution_count": null,
      "outputs": [
        {
          "output_type": "stream",
          "name": "stdout",
          "text": [
            "Mounted at /content/drive\n"
          ]
        }
      ]
    },
    {
      "cell_type": "code",
      "source": [
        "# Simpan DataFrame sebagai file CSV lokal\n",
        "nama_file_lokal = \"fashionDataset.csv\"\n",
        "df.to_csv(nama_file_lokal, index=False)\n",
        "\n",
        "# Unduh file CSV\n",
        "from google.colab import files\n",
        "files.download(nama_file_lokal)"
      ],
      "metadata": {
        "colab": {
          "base_uri": "https://localhost:8080/",
          "height": 17
        },
        "id": "Swhk95U1EjTA",
        "outputId": "18146bd6-61fe-46c9-d61d-0bfe7e0602a3"
      },
      "execution_count": null,
      "outputs": [
        {
          "output_type": "display_data",
          "data": {
            "text/plain": [
              "<IPython.core.display.Javascript object>"
            ],
            "application/javascript": [
              "\n",
              "    async function download(id, filename, size) {\n",
              "      if (!google.colab.kernel.accessAllowed) {\n",
              "        return;\n",
              "      }\n",
              "      const div = document.createElement('div');\n",
              "      const label = document.createElement('label');\n",
              "      label.textContent = `Downloading \"${filename}\": `;\n",
              "      div.appendChild(label);\n",
              "      const progress = document.createElement('progress');\n",
              "      progress.max = size;\n",
              "      div.appendChild(progress);\n",
              "      document.body.appendChild(div);\n",
              "\n",
              "      const buffers = [];\n",
              "      let downloaded = 0;\n",
              "\n",
              "      const channel = await google.colab.kernel.comms.open(id);\n",
              "      // Send a message to notify the kernel that we're ready.\n",
              "      channel.send({})\n",
              "\n",
              "      for await (const message of channel.messages) {\n",
              "        // Send a message to notify the kernel that we're ready.\n",
              "        channel.send({})\n",
              "        if (message.buffers) {\n",
              "          for (const buffer of message.buffers) {\n",
              "            buffers.push(buffer);\n",
              "            downloaded += buffer.byteLength;\n",
              "            progress.value = downloaded;\n",
              "          }\n",
              "        }\n",
              "      }\n",
              "      const blob = new Blob(buffers, {type: 'application/binary'});\n",
              "      const a = document.createElement('a');\n",
              "      a.href = window.URL.createObjectURL(blob);\n",
              "      a.download = filename;\n",
              "      div.appendChild(a);\n",
              "      a.click();\n",
              "      div.remove();\n",
              "    }\n",
              "  "
            ]
          },
          "metadata": {}
        },
        {
          "output_type": "display_data",
          "data": {
            "text/plain": [
              "<IPython.core.display.Javascript object>"
            ],
            "application/javascript": [
              "download(\"download_692bbf40-0feb-454f-b78f-f589c3524e2e\", \"fix_dataset2.csv\", 468930)"
            ]
          },
          "metadata": {}
        }
      ]
    },
    {
      "cell_type": "code",
      "source": [
        "len(df)"
      ],
      "metadata": {
        "colab": {
          "base_uri": "https://localhost:8080/"
        },
        "id": "rZtNT7VzFDtU",
        "outputId": "ee2ab831-ec85-4607-f968-23082e8011b4"
      },
      "execution_count": null,
      "outputs": [
        {
          "output_type": "execute_result",
          "data": {
            "text/plain": [
              "8005"
            ]
          },
          "metadata": {},
          "execution_count": 44
        }
      ]
    },
    {
      "cell_type": "code",
      "source": [
        "# Make zip filter_images\n",
        "# Specify the path to the 'filter_images' folder\n",
        "filter_folder = 'filter_images'\n",
        "\n",
        "# Specify the name for the zip file\n",
        "zip_file_name = 'filter_images.zip'\n",
        "\n",
        "# Create a zip file of the 'filter_images' folder\n",
        "shutil.make_archive(zip_file_name, 'zip', filter_folder)\n",
        "\n",
        "# Move the zip file to '/content/drive/My Drive/' (you can change the destination)\n",
        "shutil.move(zip_file_name + '.zip', '/content/drive/My Drive/' + zip_file_name)"
      ],
      "metadata": {
        "colab": {
          "base_uri": "https://localhost:8080/",
          "height": 35
        },
        "id": "1yQVmGOyJ5iL",
        "outputId": "73b1ad38-9083-468e-9451-a0836fd09144"
      },
      "execution_count": null,
      "outputs": [
        {
          "output_type": "execute_result",
          "data": {
            "text/plain": [
              "'/content/drive/My Drive/filter_images.zip'"
            ],
            "application/vnd.google.colaboratory.intrinsic+json": {
              "type": "string"
            }
          },
          "metadata": {},
          "execution_count": 63
        }
      ]
    }
  ]
}